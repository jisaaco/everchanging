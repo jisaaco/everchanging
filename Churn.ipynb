{
 "cells": [
  {
   "cell_type": "markdown",
   "id": "685074a1-bf4b-4c13-8f3c-67e2958f0705",
   "metadata": {},
   "source": [
    "# PREDICTING CUSTOMER CHURN"
   ]
  },
  {
   "cell_type": "markdown",
   "id": "304e3af3-f6d7-4827-acab-32db1ce72ddd",
   "metadata": {},
   "source": [
    "## Standard libraries for data analysis"
   ]
  },
  {
   "cell_type": "code",
   "execution_count": 2,
   "id": "1eb07cd5-ad96-4971-8607-7881df102429",
   "metadata": {},
   "outputs": [],
   "source": [
    "import numpy as np\n",
    "import matplotlib.pyplot as plt\n",
    "import pandas as pd\n",
    "import scipy.stats as sps\n",
    "import statsmodels.api as sm"
   ]
  },
  {
   "cell_type": "markdown",
   "id": "9fd3c36d-b323-45f9-b5c9-44d00f864852",
   "metadata": {},
   "source": [
    "## SKLearn modules for data preprocessing"
   ]
  },
  {
   "cell_type": "code",
   "execution_count": 3,
   "id": "0120da09-e8fb-4a66-9cbd-095f99f8738e",
   "metadata": {},
   "outputs": [],
   "source": [
    "from sklearn.impute import SimpleImputer\n",
    "from sklearn.preprocessing import LabelEncoder, OneHotEncoder, StandardScaler\n",
    "from sklearn.compose import ColumnTransformer\n",
    "from sklearn.model_selection import train_test_split"
   ]
  },
  {
   "cell_type": "markdown",
   "id": "aa52bd8a-8a1e-4176-84cd-8670c671bc62",
   "metadata": {},
   "source": [
    "## SKLearn modules for Model Selection"
   ]
  },
  {
   "cell_type": "code",
   "execution_count": 1,
   "id": "50393824-95ee-454b-a056-e90e5e95a328",
   "metadata": {},
   "outputs": [],
   "source": [
    "from sklearn import naive_bayes, ensemble, discriminant_analysis, gaussian_process\n",
    "from sklearn.neighbors import KNeighborsClassifier\n",
    "from sklearn.discriminant_analysis import LinearDiscriminantAnalysis\n",
    "from sklearn.linear_model import LogisticRegression\n",
    "from sklearn.svm import SVC\n",
    "from sklearn.naive_bayes import GaussianNB\n",
    "from sklearn.tree import DecisionTreeClassifier\n",
    "from sklearn.ensemble import RandomForestClassifier\n",
    "from xgboost import XGBClassifier"
   ]
  }
 ],
 "metadata": {
  "kernelspec": {
   "display_name": "Python 3 (ipykernel)",
   "language": "python",
   "name": "python3"
  },
  "language_info": {
   "codemirror_mode": {
    "name": "ipython",
    "version": 3
   },
   "file_extension": ".py",
   "mimetype": "text/x-python",
   "name": "python",
   "nbconvert_exporter": "python",
   "pygments_lexer": "ipython3",
   "version": "3.8.12"
  }
 },
 "nbformat": 4,
 "nbformat_minor": 5
}
