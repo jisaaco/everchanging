{
 "cells": [
  {
   "cell_type": "code",
   "execution_count": 10,
   "metadata": {},
   "outputs": [],
   "source": [
    "import matplotlib.pyplot as plt\n",
    "import numpy as np\n",
    "import pandas as pd\n",
    "import seaborn as sns\n",
    "from reliabilipy import reliability_analysis\n",
    "\n",
    "from sklearn.datasets import load_iris\n",
    "from sklearn.decomposition import PCA, FactorAnalysis\n",
    "from sklearn.preprocessing import StandardScaler\n",
    "\n",
    "from factor_analyzer import FactorAnalyzer\n",
    "from factor_analyzer.factor_analyzer import calculate_bartlett_sphericity\n",
    "from factor_analyzer.factor_analyzer import calculate_kmo"
   ]
  },
  {
   "cell_type": "markdown",
   "metadata": {},
   "source": [
    "# ANÁLISIS EASI"
   ]
  },
  {
   "cell_type": "code",
   "execution_count": 11,
   "metadata": {},
   "outputs": [],
   "source": [
    "easi_exp = pd.read_excel('/mnt/72D08F32D08EFB9B/Users/Administrador/evechan/EASI-exp.xlsx')\n",
    "easi_con = pd.read_excel('/mnt/72D08F32D08EFB9B/Users/Administrador/evechan/EASI-con.xlsx')\n",
    "X_exp = StandardScaler().fit_transform(easi_exp)\n",
    "X_con = StandardScaler().fit_transform(easi_con)"
   ]
  },
  {
   "cell_type": "markdown",
   "metadata": {},
   "source": [
    "## ANÁLISIS FACTORIAL EXPLORATORIO"
   ]
  },
  {
   "cell_type": "code",
   "execution_count": 12,
   "metadata": {},
   "outputs": [
    {
     "data": {
      "text/plain": [
       "<Axes: xlabel='Factores', ylabel='EigenValues'>"
      ]
     },
     "execution_count": 12,
     "metadata": {},
     "output_type": "execute_result"
    },
    {
     "data": {
      "image/png": "[encoded data removed]",
      "text/plain": [
       "<Figure size 640x480 with 1 Axes>"
      ]
     },
     "metadata": {},
     "output_type": "display_data"
    }
   ],
   "source": [
    "fa = FactorAnalyzer(10, rotation = None)\n",
    "fa.fit(X_exp)\n",
    "\n",
    "FactorAnalyzer(bounds = (0.005, 1),\n",
    "               impute = 'median',\n",
    "               is_corr_matrix = False,\n",
    "               method = 'minres',\n",
    "               n_factors = 3,\n",
    "               rotation = None,\n",
    "               rotation_kwargs = {},\n",
    "               use_smc = True)\n",
    "\n",
    "factores = range(1, X_exp.shape[1] + 1)\n",
    "evs = fa.get_eigenvalues()[1]\n",
    "df = pd.DataFrame({'Factores':factores, 'EigenValues':evs})\n",
    "\n",
    "sns.lineplot(data = df,\n",
    "             x = 'Factores',\n",
    "             y = 'EigenValues')"
   ]
  },
  {
   "cell_type": "markdown",
   "metadata": {},
   "source": [
    "## ANÁLISIS FACTORIAL CONFIRMATORIO\n",
    "### BARTLETT"
   ]
  },
  {
   "cell_type": "code",
   "execution_count": 20,
   "metadata": {},
   "outputs": [
    {
     "name": "stdout",
     "output_type": "stream",
     "text": [
      "Ji cuadrada = 1.83e+03\n",
      "p = 1.48e-217\n"
     ]
    }
   ],
   "source": [
    "chi_square_value,p_value = calculate_bartlett_sphericity(X_con)\n",
    "print('Ji cuadrada =', f'{chi_square_value:.3}')\n",
    "print('p =', f'{p_value:.3}')"
   ]
  },
  {
   "cell_type": "markdown",
   "metadata": {},
   "source": [
    "### KMO"
   ]
  },
  {
   "cell_type": "code",
   "execution_count": 21,
   "metadata": {},
   "outputs": [
    {
     "name": "stdout",
     "output_type": "stream",
     "text": [
      "KMO = 0.855\n"
     ]
    }
   ],
   "source": [
    "kmo_all,kmo_model=calculate_kmo(X_con)\n",
    "print('KMO =', f'{kmo_model:.3}')"
   ]
  },
  {
   "cell_type": "code",
   "execution_count": 15,
   "metadata": {},
   "outputs": [
    {
     "data": {
      "text/html": [
       "<div>\n",
       "<style scoped>\n",
       "    .dataframe tbody tr th:only-of-type {\n",
       "        vertical-align: middle;\n",
       "    }\n",
       "\n",
       "    .dataframe tbody tr th {\n",
       "        vertical-align: top;\n",
       "    }\n",
       "\n",
       "    .dataframe thead th {\n",
       "        text-align: right;\n",
       "    }\n",
       "</style>\n",
       "<table border=\"1\" class=\"dataframe\">\n",
       "  <thead>\n",
       "    <tr style=\"text-align: right;\">\n",
       "      <th></th>\n",
       "      <th>Factor 1</th>\n",
       "      <th>Factor 2</th>\n",
       "      <th>Factor 3</th>\n",
       "      <th>Factor 4</th>\n",
       "      <th>Factor 5</th>\n",
       "    </tr>\n",
       "  </thead>\n",
       "  <tbody>\n",
       "    <tr>\n",
       "      <th>easi6</th>\n",
       "      <td>0.762817</td>\n",
       "      <td></td>\n",
       "      <td></td>\n",
       "      <td></td>\n",
       "      <td></td>\n",
       "    </tr>\n",
       "    <tr>\n",
       "      <th>easi11</th>\n",
       "      <td>0.701939</td>\n",
       "      <td></td>\n",
       "      <td></td>\n",
       "      <td></td>\n",
       "      <td></td>\n",
       "    </tr>\n",
       "    <tr>\n",
       "      <th>easi21</th>\n",
       "      <td>0.681317</td>\n",
       "      <td></td>\n",
       "      <td></td>\n",
       "      <td></td>\n",
       "      <td></td>\n",
       "    </tr>\n",
       "    <tr>\n",
       "      <th>easi1</th>\n",
       "      <td>0.660603</td>\n",
       "      <td></td>\n",
       "      <td></td>\n",
       "      <td></td>\n",
       "      <td></td>\n",
       "    </tr>\n",
       "    <tr>\n",
       "      <th>easi16</th>\n",
       "      <td>0.587984</td>\n",
       "      <td></td>\n",
       "      <td></td>\n",
       "      <td></td>\n",
       "      <td></td>\n",
       "    </tr>\n",
       "    <tr>\n",
       "      <th>easi23</th>\n",
       "      <td>0.366699</td>\n",
       "      <td></td>\n",
       "      <td>0.3074</td>\n",
       "      <td></td>\n",
       "      <td></td>\n",
       "    </tr>\n",
       "    <tr>\n",
       "      <th>easi24</th>\n",
       "      <td></td>\n",
       "      <td>0.867549</td>\n",
       "      <td></td>\n",
       "      <td></td>\n",
       "      <td></td>\n",
       "    </tr>\n",
       "    <tr>\n",
       "      <th>easi9</th>\n",
       "      <td></td>\n",
       "      <td>0.727655</td>\n",
       "      <td></td>\n",
       "      <td></td>\n",
       "      <td></td>\n",
       "    </tr>\n",
       "    <tr>\n",
       "      <th>easi14</th>\n",
       "      <td></td>\n",
       "      <td>0.631683</td>\n",
       "      <td></td>\n",
       "      <td></td>\n",
       "      <td></td>\n",
       "    </tr>\n",
       "    <tr>\n",
       "      <th>easi4</th>\n",
       "      <td></td>\n",
       "      <td>0.567475</td>\n",
       "      <td></td>\n",
       "      <td></td>\n",
       "      <td></td>\n",
       "    </tr>\n",
       "    <tr>\n",
       "      <th>easi19</th>\n",
       "      <td></td>\n",
       "      <td>0.467558</td>\n",
       "      <td></td>\n",
       "      <td></td>\n",
       "      <td></td>\n",
       "    </tr>\n",
       "    <tr>\n",
       "      <th>easi18</th>\n",
       "      <td></td>\n",
       "      <td></td>\n",
       "      <td>0.82235</td>\n",
       "      <td></td>\n",
       "      <td></td>\n",
       "    </tr>\n",
       "    <tr>\n",
       "      <th>easi8</th>\n",
       "      <td></td>\n",
       "      <td></td>\n",
       "      <td>0.71664</td>\n",
       "      <td></td>\n",
       "      <td></td>\n",
       "    </tr>\n",
       "    <tr>\n",
       "      <th>easi13</th>\n",
       "      <td></td>\n",
       "      <td></td>\n",
       "      <td>0.502201</td>\n",
       "      <td></td>\n",
       "      <td></td>\n",
       "    </tr>\n",
       "    <tr>\n",
       "      <th>easi15</th>\n",
       "      <td></td>\n",
       "      <td></td>\n",
       "      <td>0.326648</td>\n",
       "      <td>0.402042</td>\n",
       "      <td></td>\n",
       "    </tr>\n",
       "    <tr>\n",
       "      <th>easi10</th>\n",
       "      <td></td>\n",
       "      <td></td>\n",
       "      <td></td>\n",
       "      <td>0.786017</td>\n",
       "      <td></td>\n",
       "    </tr>\n",
       "    <tr>\n",
       "      <th>easi7</th>\n",
       "      <td></td>\n",
       "      <td></td>\n",
       "      <td></td>\n",
       "      <td>0.506638</td>\n",
       "      <td></td>\n",
       "    </tr>\n",
       "    <tr>\n",
       "      <th>easi25</th>\n",
       "      <td></td>\n",
       "      <td></td>\n",
       "      <td></td>\n",
       "      <td>0.407369</td>\n",
       "      <td></td>\n",
       "    </tr>\n",
       "    <tr>\n",
       "      <th>easi5</th>\n",
       "      <td></td>\n",
       "      <td></td>\n",
       "      <td></td>\n",
       "      <td>0.352947</td>\n",
       "      <td></td>\n",
       "    </tr>\n",
       "    <tr>\n",
       "      <th>easi20</th>\n",
       "      <td></td>\n",
       "      <td></td>\n",
       "      <td></td>\n",
       "      <td>0.33763</td>\n",
       "      <td></td>\n",
       "    </tr>\n",
       "    <tr>\n",
       "      <th>easi22</th>\n",
       "      <td></td>\n",
       "      <td></td>\n",
       "      <td></td>\n",
       "      <td></td>\n",
       "      <td>0.597972</td>\n",
       "    </tr>\n",
       "    <tr>\n",
       "      <th>easi17</th>\n",
       "      <td></td>\n",
       "      <td></td>\n",
       "      <td></td>\n",
       "      <td></td>\n",
       "      <td>0.593777</td>\n",
       "    </tr>\n",
       "    <tr>\n",
       "      <th>easi2</th>\n",
       "      <td></td>\n",
       "      <td></td>\n",
       "      <td></td>\n",
       "      <td></td>\n",
       "      <td>0.343754</td>\n",
       "    </tr>\n",
       "    <tr>\n",
       "      <th>easi3</th>\n",
       "      <td></td>\n",
       "      <td></td>\n",
       "      <td></td>\n",
       "      <td></td>\n",
       "      <td>0.317207</td>\n",
       "    </tr>\n",
       "    <tr>\n",
       "      <th>easi12</th>\n",
       "      <td></td>\n",
       "      <td></td>\n",
       "      <td></td>\n",
       "      <td></td>\n",
       "      <td>0.300003</td>\n",
       "    </tr>\n",
       "  </tbody>\n",
       "</table>\n",
       "</div>"
      ],
      "text/plain": [
       "        Factor 1  Factor 2  Factor 3  Factor 4  Factor 5\n",
       "easi6   0.762817                                        \n",
       "easi11  0.701939                                        \n",
       "easi21  0.681317                                        \n",
       "easi1   0.660603                                        \n",
       "easi16  0.587984                                        \n",
       "easi23  0.366699              0.3074                    \n",
       "easi24            0.867549                              \n",
       "easi9             0.727655                              \n",
       "easi14            0.631683                              \n",
       "easi4             0.567475                              \n",
       "easi19            0.467558                              \n",
       "easi18                       0.82235                    \n",
       "easi8                        0.71664                    \n",
       "easi13                      0.502201                    \n",
       "easi15                      0.326648  0.402042          \n",
       "easi10                                0.786017          \n",
       "easi7                                 0.506638          \n",
       "easi25                                0.407369          \n",
       "easi5                                 0.352947          \n",
       "easi20                                 0.33763          \n",
       "easi22                                          0.597972\n",
       "easi17                                          0.593777\n",
       "easi2                                           0.343754\n",
       "easi3                                           0.317207\n",
       "easi12                                          0.300003"
      ]
     },
     "execution_count": 15,
     "metadata": {},
     "output_type": "execute_result"
    }
   ],
   "source": [
    "fa = FactorAnalyzer(n_factors = 5,\n",
    "                    rotation = 'oblimin',\n",
    "                    method = 'minres',\n",
    "                    use_smc = True)\n",
    "fa.fit(X_con)\n",
    "\n",
    "loadings = pd.DataFrame(fa.loadings_, columns=['Factor 1', 'Factor 2', 'Factor 3', 'Factor 4', 'Factor 5'], index=easi_con.columns)\n",
    "loadings = loadings.applymap(lambda x:np.nan if abs(x) < 0.3 else x)\n",
    "loadings = loadings.sort_values(by = ['Factor 1', 'Factor 2', 'Factor 3', 'Factor 4', 'Factor 5'],\n",
    "                     ascending = [False, False, False, False, False])\n",
    "loadings = loadings.replace(np.nan, '', regex = True)\n",
    "loadings"
   ]
  },
  {
   "cell_type": "markdown",
   "metadata": {},
   "source": [
    "### CONFIABILIDAD"
   ]
  },
  {
   "cell_type": "code",
   "execution_count": 22,
   "metadata": {},
   "outputs": [
    {
     "name": "stdout",
     "output_type": "stream",
     "text": [
      "Omega total = 0.895\n",
      "Alfa de Cronbach total = 0.874\n"
     ]
    }
   ],
   "source": [
    "ra = reliability_analysis(raw_dataset = easi_con,\n",
    "                          is_corr_matrix = False,\n",
    "                          impute = 'median')\n",
    "ra.fit()\n",
    "\n",
    "print('Omega total =', f'{ra.omega_total:.3}')\n",
    "print('Alfa de Cronbach total =', f'{ra.alpha_cronbach:.3}')"
   ]
  },
  {
   "cell_type": "markdown",
   "metadata": {},
   "source": [
    "# ANÁLISIS ESNOV"
   ]
  },
  {
   "cell_type": "code",
   "execution_count": 31,
   "metadata": {},
   "outputs": [],
   "source": [
    "esnov_exp = pd.read_excel('/mnt/72D08F32D08EFB9B/Users/Administrador/evechan/ESNOV-exp.xlsx')\n",
    "esnov_con = pd.read_excel('/mnt/72D08F32D08EFB9B/Users/Administrador/evechan/ESNOV-con.xlsx')\n",
    "Z_exp = StandardScaler().fit_transform(esnov_exp)\n",
    "Z_con = StandardScaler().fit_transform(esnov_con)"
   ]
  },
  {
   "cell_type": "markdown",
   "metadata": {},
   "source": [
    "## ANÁLISIS FACTORIAL EXPLORATORIO"
   ]
  },
  {
   "cell_type": "code",
   "execution_count": 32,
   "metadata": {},
   "outputs": [
    {
     "data": {
      "text/plain": [
       "<Axes: xlabel='Factores', ylabel='EigenValues'>"
      ]
     },
     "execution_count": 32,
     "metadata": {},
     "output_type": "execute_result"
    },
    {
     "data": {
      "image/png": "[encoded data removed]",
      "text/plain": [
       "<Figure size 640x480 with 1 Axes>"
      ]
     },
     "metadata": {},
     "output_type": "display_data"
    }
   ],
   "source": [
    "fa = FactorAnalyzer(10, rotation = None)\n",
    "fa.fit(Z_exp)\n",
    "\n",
    "FactorAnalyzer(bounds = (0.005, 1),\n",
    "               impute = 'median',\n",
    "               is_corr_matrix = False,\n",
    "               method = 'minres',\n",
    "               n_factors = 3,\n",
    "               rotation = None,\n",
    "               rotation_kwargs = {},\n",
    "               use_smc = True)\n",
    "\n",
    "factores = range(1, Z_exp.shape[1] + 1)\n",
    "evs = fa.get_eigenvalues()[1]\n",
    "df = pd.DataFrame({'Factores':factores, 'EigenValues':evs})\n",
    "\n",
    "sns.lineplot(data = df,\n",
    "             x = 'Factores',\n",
    "             y = 'EigenValues')"
   ]
  },
  {
   "cell_type": "markdown",
   "metadata": {},
   "source": [
    "## ANÁLISIS FACTORIAL CONFIRMATORIO"
   ]
  },
  {
   "cell_type": "markdown",
   "metadata": {},
   "source": [
    "### BARTLETT"
   ]
  },
  {
   "cell_type": "code",
   "execution_count": 33,
   "metadata": {},
   "outputs": [
    {
     "name": "stdout",
     "output_type": "stream",
     "text": [
      "Ji cuadrada = 1.88e+03\n",
      "p = 5.26e-275\n"
     ]
    }
   ],
   "source": [
    "chi_square_value,p_value = calculate_bartlett_sphericity(Z_con)\n",
    "print('Ji cuadrada =', f'{chi_square_value:.3}')\n",
    "print('p =', f'{p_value:.3}')"
   ]
  },
  {
   "cell_type": "markdown",
   "metadata": {},
   "source": [
    "### KMO"
   ]
  },
  {
   "cell_type": "code",
   "execution_count": 34,
   "metadata": {},
   "outputs": [
    {
     "name": "stdout",
     "output_type": "stream",
     "text": [
      "KMO = 0.943\n"
     ]
    }
   ],
   "source": [
    "kmo_all,kmo_model=calculate_kmo(Z_con)\n",
    "print('KMO =', f'{kmo_model:.3}')"
   ]
  },
  {
   "cell_type": "code",
   "execution_count": 35,
   "metadata": {},
   "outputs": [
    {
     "data": {
      "text/html": [
       "<div>\n",
       "<style scoped>\n",
       "    .dataframe tbody tr th:only-of-type {\n",
       "        vertical-align: middle;\n",
       "    }\n",
       "\n",
       "    .dataframe tbody tr th {\n",
       "        vertical-align: top;\n",
       "    }\n",
       "\n",
       "    .dataframe thead th {\n",
       "        text-align: right;\n",
       "    }\n",
       "</style>\n",
       "<table border=\"1\" class=\"dataframe\">\n",
       "  <thead>\n",
       "    <tr style=\"text-align: right;\">\n",
       "      <th></th>\n",
       "      <th>Factor 1</th>\n",
       "      <th>Factor 2</th>\n",
       "    </tr>\n",
       "  </thead>\n",
       "  <tbody>\n",
       "    <tr>\n",
       "      <th>esnov15</th>\n",
       "      <td>0.867443</td>\n",
       "      <td></td>\n",
       "    </tr>\n",
       "    <tr>\n",
       "      <th>esnov19</th>\n",
       "      <td>0.670892</td>\n",
       "      <td></td>\n",
       "    </tr>\n",
       "    <tr>\n",
       "      <th>esnov11</th>\n",
       "      <td>0.614014</td>\n",
       "      <td></td>\n",
       "    </tr>\n",
       "    <tr>\n",
       "      <th>esnov17</th>\n",
       "      <td>0.563074</td>\n",
       "      <td></td>\n",
       "    </tr>\n",
       "    <tr>\n",
       "      <th>esnov7</th>\n",
       "      <td>0.517721</td>\n",
       "      <td></td>\n",
       "    </tr>\n",
       "    <tr>\n",
       "      <th>esnov9</th>\n",
       "      <td>0.470812</td>\n",
       "      <td></td>\n",
       "    </tr>\n",
       "    <tr>\n",
       "      <th>esnov16</th>\n",
       "      <td>0.467138</td>\n",
       "      <td>0.324052</td>\n",
       "    </tr>\n",
       "    <tr>\n",
       "      <th>esnov14</th>\n",
       "      <td>0.427885</td>\n",
       "      <td></td>\n",
       "    </tr>\n",
       "    <tr>\n",
       "      <th>esnov13</th>\n",
       "      <td>0.40614</td>\n",
       "      <td></td>\n",
       "    </tr>\n",
       "    <tr>\n",
       "      <th>esnov5</th>\n",
       "      <td>0.404267</td>\n",
       "      <td>0.379264</td>\n",
       "    </tr>\n",
       "    <tr>\n",
       "      <th>esnov18</th>\n",
       "      <td>0.314809</td>\n",
       "      <td>0.374661</td>\n",
       "    </tr>\n",
       "    <tr>\n",
       "      <th>esnov2</th>\n",
       "      <td></td>\n",
       "      <td>0.826187</td>\n",
       "    </tr>\n",
       "    <tr>\n",
       "      <th>esnov1</th>\n",
       "      <td></td>\n",
       "      <td>0.7044</td>\n",
       "    </tr>\n",
       "    <tr>\n",
       "      <th>esnov4</th>\n",
       "      <td></td>\n",
       "      <td>0.534749</td>\n",
       "    </tr>\n",
       "    <tr>\n",
       "      <th>esnov6</th>\n",
       "      <td></td>\n",
       "      <td>0.479495</td>\n",
       "    </tr>\n",
       "    <tr>\n",
       "      <th>esnov10</th>\n",
       "      <td></td>\n",
       "      <td>0.467822</td>\n",
       "    </tr>\n",
       "    <tr>\n",
       "      <th>esnov3</th>\n",
       "      <td></td>\n",
       "      <td>0.463863</td>\n",
       "    </tr>\n",
       "    <tr>\n",
       "      <th>esnov8</th>\n",
       "      <td></td>\n",
       "      <td>0.431841</td>\n",
       "    </tr>\n",
       "    <tr>\n",
       "      <th>esnov12</th>\n",
       "      <td></td>\n",
       "      <td>0.385986</td>\n",
       "    </tr>\n",
       "    <tr>\n",
       "      <th>esnov20</th>\n",
       "      <td></td>\n",
       "      <td>0.380697</td>\n",
       "    </tr>\n",
       "  </tbody>\n",
       "</table>\n",
       "</div>"
      ],
      "text/plain": [
       "         Factor 1  Factor 2\n",
       "esnov15  0.867443          \n",
       "esnov19  0.670892          \n",
       "esnov11  0.614014          \n",
       "esnov17  0.563074          \n",
       "esnov7   0.517721          \n",
       "esnov9   0.470812          \n",
       "esnov16  0.467138  0.324052\n",
       "esnov14  0.427885          \n",
       "esnov13   0.40614          \n",
       "esnov5   0.404267  0.379264\n",
       "esnov18  0.314809  0.374661\n",
       "esnov2             0.826187\n",
       "esnov1               0.7044\n",
       "esnov4             0.534749\n",
       "esnov6             0.479495\n",
       "esnov10            0.467822\n",
       "esnov3             0.463863\n",
       "esnov8             0.431841\n",
       "esnov12            0.385986\n",
       "esnov20            0.380697"
      ]
     },
     "execution_count": 35,
     "metadata": {},
     "output_type": "execute_result"
    }
   ],
   "source": [
    "fa = FactorAnalyzer(n_factors = 2,\n",
    "                    rotation = 'oblimin',\n",
    "                    method = 'minres',\n",
    "                    use_smc = True)\n",
    "fa.fit(Z_con)\n",
    "\n",
    "loadings = pd.DataFrame(fa.loadings_, columns=['Factor 1', 'Factor 2'], index = esnov_con.columns)\n",
    "loadings = loadings.applymap(lambda x:np.nan if abs(x) < 0.3 else x)\n",
    "loadings = loadings.sort_values(by = ['Factor 1', 'Factor 2'],\n",
    "                     ascending = [False, False])\n",
    "loadings = loadings.replace(np.nan, '', regex = True)\n",
    "loadings"
   ]
  },
  {
   "cell_type": "markdown",
   "metadata": {},
   "source": [
    "### CONFIABILIDAD"
   ]
  },
  {
   "cell_type": "code",
   "execution_count": 36,
   "metadata": {},
   "outputs": [
    {
     "name": "stdout",
     "output_type": "stream",
     "text": [
      "Omega total = 0.924\n",
      "Alfa de Cronbach total = 0.93\n"
     ]
    }
   ],
   "source": [
    "ra = reliability_analysis(raw_dataset = esnov_con,\n",
    "                          is_corr_matrix = False,\n",
    "                          impute = 'median')\n",
    "ra.fit()\n",
    "\n",
    "print('Omega total =', f'{ra.omega_total:.3}')\n",
    "print('Alfa de Cronbach total =', f'{ra.alpha_cronbach:.3}')"
   ]
  }
 ],
 "metadata": {
  "kernelspec": {
   "display_name": "Python 3",
   "language": "python",
   "name": "python3"
  },
  "language_info": {
   "codemirror_mode": {
    "name": "ipython",
    "version": 3
   },
   "file_extension": ".py",
   "mimetype": "text/x-python",
   "name": "python",
   "nbconvert_exporter": "python",
   "pygments_lexer": "ipython3",
   "version": "3.11.2"
  },
  "orig_nbformat": 4
 },
 "nbformat": 4,
 "nbformat_minor": 2
}
