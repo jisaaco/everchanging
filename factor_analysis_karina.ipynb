{
 "cells": [
  {
   "cell_type": "code",
   "execution_count": 1,
   "metadata": {},
   "outputs": [],
   "source": [
    "import matplotlib.pyplot as plt\n",
    "import numpy as np\n",
    "import pandas as pd\n",
    "import seaborn as sns\n",
    "\n",
    "from reliabilipy import reliability_analysis\n",
    "from sklearn.decomposition import PCA, FactorAnalysis\n",
    "from sklearn.preprocessing import StandardScaler\n",
    "from factor_analyzer import FactorAnalyzer\n",
    "from factor_analyzer import ConfirmatoryFactorAnalyzer\n",
    "from factor_analyzer import ModelSpecificationParser\n",
    "from factor_analyzer.factor_analyzer import calculate_bartlett_sphericity\n",
    "from factor_analyzer.factor_analyzer import calculate_kmo\n",
    "\n",
    "import warnings\n",
    "warnings.filterwarnings(\"ignore\")\n",
    "\n",
    "def get_df_name(df):\n",
    "    name =[x for x in globals() if globals()[x] is df][0]\n",
    "    return name"
   ]
  },
  {
   "cell_type": "markdown",
   "metadata": {},
   "source": [
    "# ANÁLISIS EASI"
   ]
  },
  {
   "cell_type": "code",
   "execution_count": 2,
   "metadata": {},
   "outputs": [],
   "source": [
    "easi_exp = pd.read_excel('/mnt/72D08F32D08EFB9B/Users/Administrador/evechan/EASI-exp.xlsx')\n",
    "easi_con = pd.read_excel('/mnt/72D08F32D08EFB9B/Users/Administrador/evechan/EASI-con.xlsx')\n",
    "X_exp = StandardScaler().fit_transform(easi_exp)\n",
    "X_con = StandardScaler().fit_transform(easi_con)"
   ]
  },
  {
   "cell_type": "markdown",
   "metadata": {},
   "source": [
    "## ANÁLISIS FACTORIAL EXPLORATORIO"
   ]
  },
  {
   "cell_type": "code",
   "execution_count": 3,
   "metadata": {},
   "outputs": [
    {
     "data": {
      "text/plain": [
       "<Axes: xlabel='Factores', ylabel='EigenValues'>"
      ]
     },
     "execution_count": 3,
     "metadata": {},
     "output_type": "execute_result"
    },
    {
     "data": {
      "image/png": "[encoded data removed]",
      "text/plain": [
       "<Figure size 640x480 with 1 Axes>"
      ]
     },
     "metadata": {},
     "output_type": "display_data"
    }
   ],
   "source": [
    "fa = FactorAnalyzer(10, rotation = None)\n",
    "fa.fit(X_exp)\n",
    "\n",
    "FactorAnalyzer(bounds = (0.005, 1),\n",
    "               impute = 'median',\n",
    "               is_corr_matrix = False,\n",
    "               method = 'minres',\n",
    "               n_factors = 3,\n",
    "               rotation = None,\n",
    "               rotation_kwargs = {},\n",
    "               use_smc = True)\n",
    "\n",
    "factores = range(1, X_exp.shape[1] + 1)\n",
    "evs = fa.get_eigenvalues()[1]\n",
    "df = pd.DataFrame({'Factores':factores, 'EigenValues':evs})\n",
    "\n",
    "sns.lineplot(data = df,\n",
    "             x = 'Factores',\n",
    "             y = 'EigenValues')"
   ]
  },
  {
   "cell_type": "markdown",
   "metadata": {},
   "source": [
    "## ANÁLISIS FACTORIAL CONFIRMATORIO\n",
    "### BARTLETT"
   ]
  },
  {
   "cell_type": "code",
   "execution_count": 4,
   "metadata": {},
   "outputs": [
    {
     "name": "stdout",
     "output_type": "stream",
     "text": [
      "Ji cuadrada = 1.83e+03\n",
      "p = 1.48e-217\n"
     ]
    }
   ],
   "source": [
    "chi_square_value,p_value = calculate_bartlett_sphericity(X_con)\n",
    "print('Ji cuadrada =', f'{chi_square_value:.3}')\n",
    "print('p =', f'{p_value:.3}')"
   ]
  },
  {
   "cell_type": "markdown",
   "metadata": {},
   "source": [
    "### KMO"
   ]
  },
  {
   "cell_type": "code",
   "execution_count": 5,
   "metadata": {},
   "outputs": [
    {
     "name": "stdout",
     "output_type": "stream",
     "text": [
      "KMO = 0.855\n"
     ]
    }
   ],
   "source": [
    "kmo_all,kmo_model=calculate_kmo(X_con)\n",
    "print('KMO =', f'{kmo_model:.3}')"
   ]
  },
  {
   "cell_type": "code",
   "execution_count": 6,
   "metadata": {},
   "outputs": [
    {
     "data": {
      "text/html": [
       "<div>\n",
       "<style scoped>\n",
       "    .dataframe tbody tr th:only-of-type {\n",
       "        vertical-align: middle;\n",
       "    }\n",
       "\n",
       "    .dataframe tbody tr th {\n",
       "        vertical-align: top;\n",
       "    }\n",
       "\n",
       "    .dataframe thead th {\n",
       "        text-align: right;\n",
       "    }\n",
       "</style>\n",
       "<table border=\"1\" class=\"dataframe\">\n",
       "  <thead>\n",
       "    <tr style=\"text-align: right;\">\n",
       "      <th></th>\n",
       "      <th>CS</th>\n",
       "      <th>RE</th>\n",
       "      <th>REM</th>\n",
       "      <th>SE</th>\n",
       "      <th>PF</th>\n",
       "    </tr>\n",
       "  </thead>\n",
       "  <tbody>\n",
       "    <tr>\n",
       "      <th>easi1</th>\n",
       "      <td>0.415377</td>\n",
       "      <td></td>\n",
       "      <td></td>\n",
       "      <td></td>\n",
       "      <td></td>\n",
       "    </tr>\n",
       "    <tr>\n",
       "      <th>easi6</th>\n",
       "      <td>0.49712</td>\n",
       "      <td></td>\n",
       "      <td></td>\n",
       "      <td></td>\n",
       "      <td></td>\n",
       "    </tr>\n",
       "    <tr>\n",
       "      <th>easi11</th>\n",
       "      <td>0.676151</td>\n",
       "      <td></td>\n",
       "      <td></td>\n",
       "      <td></td>\n",
       "      <td></td>\n",
       "    </tr>\n",
       "    <tr>\n",
       "      <th>easi16</th>\n",
       "      <td>0.546905</td>\n",
       "      <td></td>\n",
       "      <td></td>\n",
       "      <td></td>\n",
       "      <td></td>\n",
       "    </tr>\n",
       "    <tr>\n",
       "      <th>easi21</th>\n",
       "      <td>0.77454</td>\n",
       "      <td></td>\n",
       "      <td></td>\n",
       "      <td></td>\n",
       "      <td></td>\n",
       "    </tr>\n",
       "    <tr>\n",
       "      <th>easi2</th>\n",
       "      <td></td>\n",
       "      <td>0.599767</td>\n",
       "      <td></td>\n",
       "      <td></td>\n",
       "      <td></td>\n",
       "    </tr>\n",
       "    <tr>\n",
       "      <th>easi7</th>\n",
       "      <td></td>\n",
       "      <td>0.685118</td>\n",
       "      <td></td>\n",
       "      <td></td>\n",
       "      <td></td>\n",
       "    </tr>\n",
       "    <tr>\n",
       "      <th>easi12</th>\n",
       "      <td></td>\n",
       "      <td>0.009571</td>\n",
       "      <td></td>\n",
       "      <td></td>\n",
       "      <td></td>\n",
       "    </tr>\n",
       "    <tr>\n",
       "      <th>easi17</th>\n",
       "      <td></td>\n",
       "      <td>0.612999</td>\n",
       "      <td></td>\n",
       "      <td></td>\n",
       "      <td></td>\n",
       "    </tr>\n",
       "    <tr>\n",
       "      <th>easi22</th>\n",
       "      <td></td>\n",
       "      <td>0.799804</td>\n",
       "      <td></td>\n",
       "      <td></td>\n",
       "      <td></td>\n",
       "    </tr>\n",
       "    <tr>\n",
       "      <th>easi3</th>\n",
       "      <td></td>\n",
       "      <td></td>\n",
       "      <td>0.312465</td>\n",
       "      <td></td>\n",
       "      <td></td>\n",
       "    </tr>\n",
       "    <tr>\n",
       "      <th>easi8</th>\n",
       "      <td></td>\n",
       "      <td></td>\n",
       "      <td>0.69545</td>\n",
       "      <td></td>\n",
       "      <td></td>\n",
       "    </tr>\n",
       "    <tr>\n",
       "      <th>easi13</th>\n",
       "      <td></td>\n",
       "      <td></td>\n",
       "      <td>0.434539</td>\n",
       "      <td></td>\n",
       "      <td></td>\n",
       "    </tr>\n",
       "    <tr>\n",
       "      <th>easi18</th>\n",
       "      <td></td>\n",
       "      <td></td>\n",
       "      <td>0.713123</td>\n",
       "      <td></td>\n",
       "      <td></td>\n",
       "    </tr>\n",
       "    <tr>\n",
       "      <th>easi23</th>\n",
       "      <td></td>\n",
       "      <td></td>\n",
       "      <td>0.589208</td>\n",
       "      <td></td>\n",
       "      <td></td>\n",
       "    </tr>\n",
       "    <tr>\n",
       "      <th>easi4</th>\n",
       "      <td></td>\n",
       "      <td></td>\n",
       "      <td></td>\n",
       "      <td>0.546129</td>\n",
       "      <td></td>\n",
       "    </tr>\n",
       "    <tr>\n",
       "      <th>easi9</th>\n",
       "      <td></td>\n",
       "      <td></td>\n",
       "      <td></td>\n",
       "      <td>0.552544</td>\n",
       "      <td></td>\n",
       "    </tr>\n",
       "    <tr>\n",
       "      <th>easi14</th>\n",
       "      <td></td>\n",
       "      <td></td>\n",
       "      <td></td>\n",
       "      <td>0.144849</td>\n",
       "      <td></td>\n",
       "    </tr>\n",
       "    <tr>\n",
       "      <th>easi19</th>\n",
       "      <td></td>\n",
       "      <td></td>\n",
       "      <td></td>\n",
       "      <td>0.49177</td>\n",
       "      <td></td>\n",
       "    </tr>\n",
       "    <tr>\n",
       "      <th>easi24</th>\n",
       "      <td></td>\n",
       "      <td></td>\n",
       "      <td></td>\n",
       "      <td>0.800121</td>\n",
       "      <td></td>\n",
       "    </tr>\n",
       "    <tr>\n",
       "      <th>easi5</th>\n",
       "      <td></td>\n",
       "      <td></td>\n",
       "      <td></td>\n",
       "      <td></td>\n",
       "      <td>0.396815</td>\n",
       "    </tr>\n",
       "    <tr>\n",
       "      <th>easi10</th>\n",
       "      <td></td>\n",
       "      <td></td>\n",
       "      <td></td>\n",
       "      <td></td>\n",
       "      <td>0.745455</td>\n",
       "    </tr>\n",
       "    <tr>\n",
       "      <th>easi15</th>\n",
       "      <td></td>\n",
       "      <td></td>\n",
       "      <td></td>\n",
       "      <td></td>\n",
       "      <td>0.426262</td>\n",
       "    </tr>\n",
       "    <tr>\n",
       "      <th>easi20</th>\n",
       "      <td></td>\n",
       "      <td></td>\n",
       "      <td></td>\n",
       "      <td></td>\n",
       "      <td>0.554914</td>\n",
       "    </tr>\n",
       "    <tr>\n",
       "      <th>easi25</th>\n",
       "      <td></td>\n",
       "      <td></td>\n",
       "      <td></td>\n",
       "      <td></td>\n",
       "      <td>0.493726</td>\n",
       "    </tr>\n",
       "  </tbody>\n",
       "</table>\n",
       "</div>"
      ],
      "text/plain": [
       "              CS        RE       REM        SE        PF\n",
       "easi1   0.415377                                        \n",
       "easi6    0.49712                                        \n",
       "easi11  0.676151                                        \n",
       "easi16  0.546905                                        \n",
       "easi21   0.77454                                        \n",
       "easi2             0.599767                              \n",
       "easi7             0.685118                              \n",
       "easi12            0.009571                              \n",
       "easi17            0.612999                              \n",
       "easi22            0.799804                              \n",
       "easi3                       0.312465                    \n",
       "easi8                        0.69545                    \n",
       "easi13                      0.434539                    \n",
       "easi18                      0.713123                    \n",
       "easi23                      0.589208                    \n",
       "easi4                                 0.546129          \n",
       "easi9                                 0.552544          \n",
       "easi14                                0.144849          \n",
       "easi19                                 0.49177          \n",
       "easi24                                0.800121          \n",
       "easi5                                           0.396815\n",
       "easi10                                          0.745455\n",
       "easi15                                          0.426262\n",
       "easi20                                          0.554914\n",
       "easi25                                          0.493726"
      ]
     },
     "execution_count": 6,
     "metadata": {},
     "output_type": "execute_result"
    }
   ],
   "source": [
    "factores = ['CS', 'RE', 'REM', 'SE', 'PF']\n",
    "model_dict = {'CS':['easi1', 'easi6', 'easi11', 'easi16', 'easi21'],\n",
    "              'RE':['easi2', 'easi7', 'easi12', 'easi17', 'easi22'],\n",
    "              'REM':['easi3', 'easi8', 'easi13', 'easi18', 'easi23'],\n",
    "              'SE':['easi4', 'easi9', 'easi14', 'easi19', 'easi24'],\n",
    "              'PF':['easi5', 'easi10', 'easi15', 'easi20', 'easi25']}\n",
    "model_spec = ModelSpecificationParser.parse_model_specification_from_dict(easi_con,\n",
    "                                                                          model_dict)\n",
    "\n",
    "cfa = ConfirmatoryFactorAnalyzer(model_spec,\n",
    "                                 disp = False)\n",
    "cfa.fit(easi_con.values)\n",
    "\n",
    "loadings = pd.DataFrame(cfa.loadings_,\n",
    "                        columns = factores,\n",
    "                        index = sum(model_dict.values(), []))\n",
    "loadings = loadings.replace(0, '', regex = True)\n",
    "loadings"
   ]
  },
  {
   "cell_type": "markdown",
   "metadata": {},
   "source": [
    "### CORRELACIONES ENTRE FACTORES"
   ]
  },
  {
   "cell_type": "code",
   "execution_count": 7,
   "metadata": {},
   "outputs": [
    {
     "data": {
      "text/html": [
       "<div>\n",
       "<style scoped>\n",
       "    .dataframe tbody tr th:only-of-type {\n",
       "        vertical-align: middle;\n",
       "    }\n",
       "\n",
       "    .dataframe tbody tr th {\n",
       "        vertical-align: top;\n",
       "    }\n",
       "\n",
       "    .dataframe thead th {\n",
       "        text-align: right;\n",
       "    }\n",
       "</style>\n",
       "<table border=\"1\" class=\"dataframe\">\n",
       "  <thead>\n",
       "    <tr style=\"text-align: right;\">\n",
       "      <th></th>\n",
       "      <th>CS</th>\n",
       "      <th>RE</th>\n",
       "      <th>REM</th>\n",
       "      <th>SE</th>\n",
       "      <th>PF</th>\n",
       "    </tr>\n",
       "  </thead>\n",
       "  <tbody>\n",
       "    <tr>\n",
       "      <th>CS</th>\n",
       "      <td>1.000000</td>\n",
       "      <td>0.697010</td>\n",
       "      <td>0.487692</td>\n",
       "      <td>0.531608</td>\n",
       "      <td>0.644999</td>\n",
       "    </tr>\n",
       "    <tr>\n",
       "      <th>RE</th>\n",
       "      <td>0.697010</td>\n",
       "      <td>1.000000</td>\n",
       "      <td>0.651017</td>\n",
       "      <td>0.476661</td>\n",
       "      <td>0.500637</td>\n",
       "    </tr>\n",
       "    <tr>\n",
       "      <th>REM</th>\n",
       "      <td>0.487692</td>\n",
       "      <td>0.651017</td>\n",
       "      <td>1.000000</td>\n",
       "      <td>0.622208</td>\n",
       "      <td>0.517289</td>\n",
       "    </tr>\n",
       "    <tr>\n",
       "      <th>SE</th>\n",
       "      <td>0.531608</td>\n",
       "      <td>0.476661</td>\n",
       "      <td>0.622208</td>\n",
       "      <td>1.000000</td>\n",
       "      <td>0.450603</td>\n",
       "    </tr>\n",
       "    <tr>\n",
       "      <th>PF</th>\n",
       "      <td>0.644999</td>\n",
       "      <td>0.500637</td>\n",
       "      <td>0.517289</td>\n",
       "      <td>0.450603</td>\n",
       "      <td>1.000000</td>\n",
       "    </tr>\n",
       "  </tbody>\n",
       "</table>\n",
       "</div>"
      ],
      "text/plain": [
       "           CS        RE       REM        SE        PF\n",
       "CS   1.000000  0.697010  0.487692  0.531608  0.644999\n",
       "RE   0.697010  1.000000  0.651017  0.476661  0.500637\n",
       "REM  0.487692  0.651017  1.000000  0.622208  0.517289\n",
       "SE   0.531608  0.476661  0.622208  1.000000  0.450603\n",
       "PF   0.644999  0.500637  0.517289  0.450603  1.000000"
      ]
     },
     "execution_count": 7,
     "metadata": {},
     "output_type": "execute_result"
    }
   ],
   "source": [
    "corr = cfa.factor_varcovs_\n",
    "corr = pd.DataFrame(data = corr,\n",
    "                    columns = factores,\n",
    "                    index = factores)\n",
    "corr"
   ]
  },
  {
   "cell_type": "code",
   "execution_count": 8,
   "metadata": {},
   "outputs": [
    {
     "data": {
      "text/plain": [
       "<Axes: >"
      ]
     },
     "execution_count": 8,
     "metadata": {},
     "output_type": "execute_result"
    },
    {
     "data": {
      "image/png": "[encoded data removed]",
      "text/plain": [
       "<Figure size 640x480 with 2 Axes>"
      ]
     },
     "metadata": {},
     "output_type": "display_data"
    }
   ],
   "source": [
    "sns.heatmap(data = corr,\n",
    "            annot = True)"
   ]
  },
  {
   "cell_type": "markdown",
   "metadata": {},
   "source": [
    "### CONFIABILIDAD"
   ]
  },
  {
   "cell_type": "code",
   "execution_count": 9,
   "metadata": {},
   "outputs": [
    {
     "name": "stdout",
     "output_type": "stream",
     "text": [
      "Omega total = 0.895\n",
      "Alfa de Cronbach total = 0.874\n"
     ]
    }
   ],
   "source": [
    "ra = reliability_analysis(raw_dataset = easi_con,\n",
    "                          is_corr_matrix = False,\n",
    "                          impute = 'median')\n",
    "ra.fit()\n",
    "\n",
    "print('Omega total =', f'{ra.omega_total:.3}')\n",
    "print('Alfa de Cronbach total =', f'{ra.alpha_cronbach:.3}')"
   ]
  },
  {
   "cell_type": "code",
   "execution_count": 10,
   "metadata": {},
   "outputs": [
    {
     "name": "stdout",
     "output_type": "stream",
     "text": [
      "Omega de CS = 0.832\n",
      "Alfa de Cronbach de CS = 0.825\n",
      "Omega de RE = 0.678\n",
      "Alfa de Cronbach de RE = 0.66\n",
      "Omega de REM = 0.771\n",
      "Alfa de Cronbach de REM = 0.727\n",
      "Omega de SE = 0.834\n",
      "Alfa de Cronbach de SE = 0.821\n",
      "Omega de PF = 0.718\n",
      "Alfa de Cronbach de PF = 0.693\n"
     ]
    }
   ],
   "source": [
    "CS = easi_con[model_dict['CS']]\n",
    "RE = easi_con[model_dict['RE']]\n",
    "REM = easi_con[model_dict['REM']]\n",
    "SE = easi_con[model_dict['SE']]\n",
    "PF = easi_con[model_dict['PF']]\n",
    "\n",
    "\n",
    "factores = [CS, RE, REM, SE, PF]\n",
    "\n",
    "for factor in factores:\n",
    "    ra = reliability_analysis(raw_dataset = factor,\n",
    "                          is_corr_matrix = False,\n",
    "                          impute = 'median')\n",
    "    ra.fit()\n",
    "    print('Omega de', get_df_name(factor), '=', f'{ra.omega_total:.3}')\n",
    "    print('Alfa de Cronbach de', get_df_name(factor), '=' , f'{ra.alpha_cronbach:.3}')"
   ]
  },
  {
   "cell_type": "markdown",
   "metadata": {},
   "source": [
    "# ANÁLISIS ESNOV"
   ]
  },
  {
   "cell_type": "code",
   "execution_count": 2,
   "metadata": {},
   "outputs": [],
   "source": [
    "esnov_exp = pd.read_excel('/mnt/72D08F32D08EFB9B/Users/Administrador/evechan/ESNOV-exp.xlsx')\n",
    "esnov_con = pd.read_excel('/mnt/72D08F32D08EFB9B/Users/Administrador/evechan/ESNOV-con.xlsx')\n",
    "Z_exp = StandardScaler().fit_transform(esnov_exp)\n",
    "Z_con = StandardScaler().fit_transform(esnov_con)"
   ]
  },
  {
   "cell_type": "markdown",
   "metadata": {},
   "source": [
    "## ANÁLISIS FACTORIAL EXPLORATORIO"
   ]
  },
  {
   "cell_type": "code",
   "execution_count": 3,
   "metadata": {},
   "outputs": [
    {
     "data": {
      "text/plain": [
       "<Axes: xlabel='Factores', ylabel='EigenValues'>"
      ]
     },
     "execution_count": 3,
     "metadata": {},
     "output_type": "execute_result"
    },
    {
     "data": {
      "image/png": "[encoded data removed]",
      "text/plain": [
       "<Figure size 640x480 with 1 Axes>"
      ]
     },
     "metadata": {},
     "output_type": "display_data"
    }
   ],
   "source": [
    "fa = FactorAnalyzer(10, rotation = None)\n",
    "fa.fit(Z_exp)\n",
    "\n",
    "FactorAnalyzer(bounds = (0.005, 1),\n",
    "               impute = 'median',\n",
    "               is_corr_matrix = False,\n",
    "               method = 'minres',\n",
    "               n_factors = 3,\n",
    "               rotation = None,\n",
    "               rotation_kwargs = {},\n",
    "               use_smc = True)\n",
    "\n",
    "factores = range(1, Z_exp.shape[1] + 1)\n",
    "evs = fa.get_eigenvalues()[1]\n",
    "df = pd.DataFrame({'Factores':factores, 'EigenValues':evs})\n",
    "\n",
    "sns.lineplot(data = df,\n",
    "             x = 'Factores',\n",
    "             y = 'EigenValues')"
   ]
  },
  {
   "cell_type": "markdown",
   "metadata": {},
   "source": [
    "## ANÁLISIS FACTORIAL CONFIRMATORIO"
   ]
  },
  {
   "cell_type": "markdown",
   "metadata": {},
   "source": [
    "### BARTLETT"
   ]
  },
  {
   "cell_type": "code",
   "execution_count": 4,
   "metadata": {},
   "outputs": [
    {
     "name": "stdout",
     "output_type": "stream",
     "text": [
      "Ji cuadrada = 1.88e+03\n",
      "p = 5.26e-275\n"
     ]
    }
   ],
   "source": [
    "chi_square_value,p_value = calculate_bartlett_sphericity(Z_con)\n",
    "print('Ji cuadrada =', f'{chi_square_value:.3}')\n",
    "print('p =', f'{p_value:.3}')"
   ]
  },
  {
   "cell_type": "markdown",
   "metadata": {},
   "source": [
    "### KMO"
   ]
  },
  {
   "cell_type": "code",
   "execution_count": 5,
   "metadata": {},
   "outputs": [
    {
     "name": "stdout",
     "output_type": "stream",
     "text": [
      "KMO = 0.943\n"
     ]
    }
   ],
   "source": [
    "kmo_all,kmo_model=calculate_kmo(Z_con)\n",
    "print('KMO =', f'{kmo_model:.3}')"
   ]
  },
  {
   "cell_type": "code",
   "execution_count": 6,
   "metadata": {},
   "outputs": [
    {
     "data": {
      "text/html": [
       "<div>\n",
       "<style scoped>\n",
       "    .dataframe tbody tr th:only-of-type {\n",
       "        vertical-align: middle;\n",
       "    }\n",
       "\n",
       "    .dataframe tbody tr th {\n",
       "        vertical-align: top;\n",
       "    }\n",
       "\n",
       "    .dataframe thead th {\n",
       "        text-align: right;\n",
       "    }\n",
       "</style>\n",
       "<table border=\"1\" class=\"dataframe\">\n",
       "  <thead>\n",
       "    <tr style=\"text-align: right;\">\n",
       "      <th></th>\n",
       "      <th>SENV</th>\n",
       "      <th>SSNV</th>\n",
       "    </tr>\n",
       "  </thead>\n",
       "  <tbody>\n",
       "    <tr>\n",
       "      <th>esnov1</th>\n",
       "      <td>0.928402</td>\n",
       "      <td></td>\n",
       "    </tr>\n",
       "    <tr>\n",
       "      <th>esnov3</th>\n",
       "      <td>0.901012</td>\n",
       "      <td></td>\n",
       "    </tr>\n",
       "    <tr>\n",
       "      <th>esnov5</th>\n",
       "      <td>0.923511</td>\n",
       "      <td></td>\n",
       "    </tr>\n",
       "    <tr>\n",
       "      <th>esnov7</th>\n",
       "      <td>0.8911</td>\n",
       "      <td></td>\n",
       "    </tr>\n",
       "    <tr>\n",
       "      <th>esnov9</th>\n",
       "      <td>1.05123</td>\n",
       "      <td></td>\n",
       "    </tr>\n",
       "    <tr>\n",
       "      <th>esnov11</th>\n",
       "      <td>0.946145</td>\n",
       "      <td></td>\n",
       "    </tr>\n",
       "    <tr>\n",
       "      <th>esnov13</th>\n",
       "      <td>0.926037</td>\n",
       "      <td></td>\n",
       "    </tr>\n",
       "    <tr>\n",
       "      <th>esnov15</th>\n",
       "      <td>0.907214</td>\n",
       "      <td></td>\n",
       "    </tr>\n",
       "    <tr>\n",
       "      <th>esnov17</th>\n",
       "      <td>0.929069</td>\n",
       "      <td></td>\n",
       "    </tr>\n",
       "    <tr>\n",
       "      <th>esnov19</th>\n",
       "      <td>0.985403</td>\n",
       "      <td></td>\n",
       "    </tr>\n",
       "    <tr>\n",
       "      <th>esnov2</th>\n",
       "      <td></td>\n",
       "      <td>0.905594</td>\n",
       "    </tr>\n",
       "    <tr>\n",
       "      <th>esnov4</th>\n",
       "      <td></td>\n",
       "      <td>0.837376</td>\n",
       "    </tr>\n",
       "    <tr>\n",
       "      <th>esnov6</th>\n",
       "      <td></td>\n",
       "      <td>0.907185</td>\n",
       "    </tr>\n",
       "    <tr>\n",
       "      <th>esnov8</th>\n",
       "      <td></td>\n",
       "      <td>0.942643</td>\n",
       "    </tr>\n",
       "    <tr>\n",
       "      <th>esnov10</th>\n",
       "      <td></td>\n",
       "      <td>0.998854</td>\n",
       "    </tr>\n",
       "    <tr>\n",
       "      <th>esnov12</th>\n",
       "      <td></td>\n",
       "      <td>1.074396</td>\n",
       "    </tr>\n",
       "    <tr>\n",
       "      <th>esnov14</th>\n",
       "      <td></td>\n",
       "      <td>0.928112</td>\n",
       "    </tr>\n",
       "    <tr>\n",
       "      <th>esnov16</th>\n",
       "      <td></td>\n",
       "      <td>0.899378</td>\n",
       "    </tr>\n",
       "    <tr>\n",
       "      <th>esnov18</th>\n",
       "      <td></td>\n",
       "      <td>0.95555</td>\n",
       "    </tr>\n",
       "    <tr>\n",
       "      <th>esnov20</th>\n",
       "      <td></td>\n",
       "      <td>0.940254</td>\n",
       "    </tr>\n",
       "  </tbody>\n",
       "</table>\n",
       "</div>"
      ],
      "text/plain": [
       "             SENV      SSNV\n",
       "esnov1   0.928402          \n",
       "esnov3   0.901012          \n",
       "esnov5   0.923511          \n",
       "esnov7     0.8911          \n",
       "esnov9    1.05123          \n",
       "esnov11  0.946145          \n",
       "esnov13  0.926037          \n",
       "esnov15  0.907214          \n",
       "esnov17  0.929069          \n",
       "esnov19  0.985403          \n",
       "esnov2             0.905594\n",
       "esnov4             0.837376\n",
       "esnov6             0.907185\n",
       "esnov8             0.942643\n",
       "esnov10            0.998854\n",
       "esnov12            1.074396\n",
       "esnov14            0.928112\n",
       "esnov16            0.899378\n",
       "esnov18             0.95555\n",
       "esnov20            0.940254"
      ]
     },
     "execution_count": 6,
     "metadata": {},
     "output_type": "execute_result"
    }
   ],
   "source": [
    "factores = ['SENV', 'SSNV']\n",
    "model_dict = {'SENV':['esnov1', 'esnov3', 'esnov5', 'esnov7', 'esnov9',\n",
    "                      'esnov11', 'esnov13', 'esnov15', 'esnov17', 'esnov19'],\n",
    "              'SSNV':['esnov2', 'esnov4', 'esnov6', 'esnov8', 'esnov10',\n",
    "                      'esnov12', 'esnov14', 'esnov16', 'esnov18', 'esnov20']}\n",
    "model_spec = ModelSpecificationParser.parse_model_specification_from_dict(esnov_con,\n",
    "                                                                          model_dict)\n",
    "\n",
    "cfa = ConfirmatoryFactorAnalyzer(model_spec,\n",
    "                                 disp = False)\n",
    "cfa.fit(esnov_con.values)\n",
    "\n",
    "loadings = pd.DataFrame(cfa.loadings_,\n",
    "                        columns = factores,\n",
    "                        index = sum(model_dict.values(), []))\n",
    "loadings = loadings.replace(0, '', regex = True)\n",
    "loadings"
   ]
  },
  {
   "cell_type": "code",
   "execution_count": 7,
   "metadata": {},
   "outputs": [
    {
     "data": {
      "text/html": [
       "<div>\n",
       "<style scoped>\n",
       "    .dataframe tbody tr th:only-of-type {\n",
       "        vertical-align: middle;\n",
       "    }\n",
       "\n",
       "    .dataframe tbody tr th {\n",
       "        vertical-align: top;\n",
       "    }\n",
       "\n",
       "    .dataframe thead th {\n",
       "        text-align: right;\n",
       "    }\n",
       "</style>\n",
       "<table border=\"1\" class=\"dataframe\">\n",
       "  <thead>\n",
       "    <tr style=\"text-align: right;\">\n",
       "      <th></th>\n",
       "      <th>SENV</th>\n",
       "      <th>SSNV</th>\n",
       "    </tr>\n",
       "  </thead>\n",
       "  <tbody>\n",
       "    <tr>\n",
       "      <th>SENV</th>\n",
       "      <td>1.000000</td>\n",
       "      <td>0.353002</td>\n",
       "    </tr>\n",
       "    <tr>\n",
       "      <th>SSNV</th>\n",
       "      <td>0.353002</td>\n",
       "      <td>1.000000</td>\n",
       "    </tr>\n",
       "  </tbody>\n",
       "</table>\n",
       "</div>"
      ],
      "text/plain": [
       "          SENV      SSNV\n",
       "SENV  1.000000  0.353002\n",
       "SSNV  0.353002  1.000000"
      ]
     },
     "execution_count": 7,
     "metadata": {},
     "output_type": "execute_result"
    }
   ],
   "source": [
    "corr = cfa.factor_varcovs_\n",
    "corr = pd.DataFrame(data = corr, columns = factores, index = factores)\n",
    "corr"
   ]
  },
  {
   "cell_type": "markdown",
   "metadata": {},
   "source": [
    "### CONFIABILIDAD"
   ]
  },
  {
   "cell_type": "code",
   "execution_count": 8,
   "metadata": {},
   "outputs": [
    {
     "name": "stdout",
     "output_type": "stream",
     "text": [
      "Omega total = 0.924\n",
      "Alfa de Cronbach total = 0.93\n"
     ]
    }
   ],
   "source": [
    "ra = reliability_analysis(raw_dataset = esnov_con,\n",
    "                          is_corr_matrix = False,\n",
    "                          impute = 'median')\n",
    "ra.fit()\n",
    "\n",
    "print('Omega total =', f'{ra.omega_total:.3}')\n",
    "print('Alfa de Cronbach total =', f'{ra.alpha_cronbach:.3}')"
   ]
  },
  {
   "cell_type": "code",
   "execution_count": 9,
   "metadata": {},
   "outputs": [
    {
     "name": "stdout",
     "output_type": "stream",
     "text": [
      "Omega de SENV = 0.889\n",
      "Alfa de Cronbach de SENV = 0.883\n",
      "Omega de SSNV = 0.872\n",
      "Alfa de Cronbach de SSNV = 0.869\n"
     ]
    }
   ],
   "source": [
    "SENV = esnov_con[model_dict['SENV']]\n",
    "SSNV = esnov_con[model_dict['SSNV']]\n",
    "\n",
    "\n",
    "factores = [SENV, SSNV]\n",
    "\n",
    "for factor in factores:\n",
    "    ra = reliability_analysis(raw_dataset = factor,\n",
    "                          is_corr_matrix = False,\n",
    "                          impute = 'median')\n",
    "    ra.fit()\n",
    "    print('Omega de', get_df_name(factor), '=', f'{ra.omega_total:.3}')\n",
    "    print('Alfa de Cronbach de', get_df_name(factor), '=' , f'{ra.alpha_cronbach:.3}')"
   ]
  }
 ],
 "metadata": {
  "kernelspec": {
   "display_name": "Python 3",
   "language": "python",
   "name": "python3"
  },
  "language_info": {
   "codemirror_mode": {
    "name": "ipython",
    "version": 3
   },
   "file_extension": ".py",
   "mimetype": "text/x-python",
   "name": "python",
   "nbconvert_exporter": "python",
   "pygments_lexer": "ipython3",
   "version": "3.11.2"
  },
  "orig_nbformat": 4
 },
 "nbformat": 4,
 "nbformat_minor": 2
}
