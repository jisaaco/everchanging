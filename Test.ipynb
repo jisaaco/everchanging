{
 "cells": [
  {
   "cell_type": "markdown",
   "id": "2148b07d-65a9-4eec-8469-2be3794da085",
   "metadata": {},
   "source": [
    "# PRUEBA CIENCIA DE DATOS\n",
    "## Jorge Ortega\n",
    "\n",
    "## MANTENIMIENTO"
   ]
  },
  {
   "cell_type": "code",
   "execution_count": null,
   "id": "3a421f1f-5a66-46fd-bec3-02afa2622588",
   "metadata": {},
   "outputs": [
    {
     "ename": "ModuleNotFoundError",
     "evalue": "No module named 'numpy'",
     "output_type": "error",
     "traceback": [
      "\u001b[1;31m---------------------------------------------------------------------------\u001b[0m",
      "\u001b[1;31mModuleNotFoundError\u001b[0m                       Traceback (most recent call last)",
      "Cell \u001b[1;32mIn[1], line 1\u001b[0m\n\u001b[1;32m----> 1\u001b[0m \u001b[39mimport\u001b[39;00m \u001b[39mnumpy\u001b[39;00m \u001b[39mas\u001b[39;00m \u001b[39mnp\u001b[39;00m\n\u001b[0;32m      2\u001b[0m \u001b[39mimport\u001b[39;00m \u001b[39mpandas\u001b[39;00m \u001b[39mas\u001b[39;00m \u001b[39mpd\u001b[39;00m\n\u001b[0;32m      3\u001b[0m \u001b[39mimport\u001b[39;00m \u001b[39mseaborn\u001b[39;00m \u001b[39mas\u001b[39;00m \u001b[39msns\u001b[39;00m\n",
      "\u001b[1;31mModuleNotFoundError\u001b[0m: No module named 'numpy'"
     ]
    }
   ],
   "source": [
    "import numpy as np\n",
    "import pandas as pd\n",
    "import seaborn as sns"
   ]
  },
  {
   "cell_type": "code",
   "execution_count": 2,
   "id": "376442e2-47df-45b7-8858-183225f29dac",
   "metadata": {},
   "outputs": [
    {
     "data": {
      "text/html": [
       "<div>\n",
       "<style scoped>\n",
       "    .dataframe tbody tr th:only-of-type {\n",
       "        vertical-align: middle;\n",
       "    }\n",
       "\n",
       "    .dataframe tbody tr th {\n",
       "        vertical-align: top;\n",
       "    }\n",
       "\n",
       "    .dataframe thead th {\n",
       "        text-align: right;\n",
       "    }\n",
       "</style>\n",
       "<table border=\"1\" class=\"dataframe\">\n",
       "  <thead>\n",
       "    <tr style=\"text-align: right;\">\n",
       "      <th></th>\n",
       "      <th>Equipo</th>\n",
       "      <th>Tienda</th>\n",
       "      <th>Proveedor</th>\n",
       "      <th>Costo</th>\n",
       "      <th>Enero</th>\n",
       "      <th>Febrero</th>\n",
       "      <th>Marzo</th>\n",
       "      <th>Abril</th>\n",
       "      <th>Mayo</th>\n",
       "      <th>Junio</th>\n",
       "      <th>Julio</th>\n",
       "      <th>Agosto</th>\n",
       "      <th>Septiembre</th>\n",
       "      <th>Octubre</th>\n",
       "      <th>Noviembre</th>\n",
       "      <th>Diciembre</th>\n",
       "    </tr>\n",
       "  </thead>\n",
       "  <tbody>\n",
       "    <tr>\n",
       "      <th>0</th>\n",
       "      <td>ANTENAS</td>\n",
       "      <td>70068</td>\n",
       "      <td>110</td>\n",
       "      <td>15000</td>\n",
       "      <td>0</td>\n",
       "      <td>0</td>\n",
       "      <td>0</td>\n",
       "      <td>1</td>\n",
       "      <td>0</td>\n",
       "      <td>0</td>\n",
       "      <td>1</td>\n",
       "      <td>0</td>\n",
       "      <td>0</td>\n",
       "      <td>0</td>\n",
       "      <td>1</td>\n",
       "      <td>0</td>\n",
       "    </tr>\n",
       "    <tr>\n",
       "      <th>1</th>\n",
       "      <td>SONIDO Y PANTALLAS</td>\n",
       "      <td>70000</td>\n",
       "      <td>104</td>\n",
       "      <td>700</td>\n",
       "      <td>0</td>\n",
       "      <td>1</td>\n",
       "      <td>0</td>\n",
       "      <td>1</td>\n",
       "      <td>1</td>\n",
       "      <td>1</td>\n",
       "      <td>0</td>\n",
       "      <td>0</td>\n",
       "      <td>1</td>\n",
       "      <td>0</td>\n",
       "      <td>0</td>\n",
       "      <td>0</td>\n",
       "    </tr>\n",
       "    <tr>\n",
       "      <th>2</th>\n",
       "      <td>BASCULA</td>\n",
       "      <td>70050</td>\n",
       "      <td>100</td>\n",
       "      <td>2300</td>\n",
       "      <td>1</td>\n",
       "      <td>0</td>\n",
       "      <td>1</td>\n",
       "      <td>1</td>\n",
       "      <td>0</td>\n",
       "      <td>0</td>\n",
       "      <td>0</td>\n",
       "      <td>0</td>\n",
       "      <td>0</td>\n",
       "      <td>1</td>\n",
       "      <td>1</td>\n",
       "      <td>0</td>\n",
       "    </tr>\n",
       "    <tr>\n",
       "      <th>3</th>\n",
       "      <td>PULIDORA DE PISOS</td>\n",
       "      <td>70091</td>\n",
       "      <td>107</td>\n",
       "      <td>2300</td>\n",
       "      <td>0</td>\n",
       "      <td>0</td>\n",
       "      <td>0</td>\n",
       "      <td>0</td>\n",
       "      <td>0</td>\n",
       "      <td>0</td>\n",
       "      <td>0</td>\n",
       "      <td>0</td>\n",
       "      <td>0</td>\n",
       "      <td>0</td>\n",
       "      <td>0</td>\n",
       "      <td>1</td>\n",
       "    </tr>\n",
       "    <tr>\n",
       "      <th>4</th>\n",
       "      <td>HORNOS</td>\n",
       "      <td>70071</td>\n",
       "      <td>125</td>\n",
       "      <td>2300</td>\n",
       "      <td>0</td>\n",
       "      <td>1</td>\n",
       "      <td>1</td>\n",
       "      <td>1</td>\n",
       "      <td>0</td>\n",
       "      <td>1</td>\n",
       "      <td>1</td>\n",
       "      <td>0</td>\n",
       "      <td>0</td>\n",
       "      <td>1</td>\n",
       "      <td>0</td>\n",
       "      <td>0</td>\n",
       "    </tr>\n",
       "    <tr>\n",
       "      <th>...</th>\n",
       "      <td>...</td>\n",
       "      <td>...</td>\n",
       "      <td>...</td>\n",
       "      <td>...</td>\n",
       "      <td>...</td>\n",
       "      <td>...</td>\n",
       "      <td>...</td>\n",
       "      <td>...</td>\n",
       "      <td>...</td>\n",
       "      <td>...</td>\n",
       "      <td>...</td>\n",
       "      <td>...</td>\n",
       "      <td>...</td>\n",
       "      <td>...</td>\n",
       "      <td>...</td>\n",
       "      <td>...</td>\n",
       "    </tr>\n",
       "    <tr>\n",
       "      <th>495</th>\n",
       "      <td>SISTEMA HIDRONEUMATICO</td>\n",
       "      <td>70036</td>\n",
       "      <td>122</td>\n",
       "      <td>700</td>\n",
       "      <td>0</td>\n",
       "      <td>0</td>\n",
       "      <td>0</td>\n",
       "      <td>1</td>\n",
       "      <td>0</td>\n",
       "      <td>0</td>\n",
       "      <td>0</td>\n",
       "      <td>0</td>\n",
       "      <td>0</td>\n",
       "      <td>0</td>\n",
       "      <td>0</td>\n",
       "      <td>0</td>\n",
       "    </tr>\n",
       "    <tr>\n",
       "      <th>496</th>\n",
       "      <td>PULIDORA DE PISOS</td>\n",
       "      <td>70024</td>\n",
       "      <td>115</td>\n",
       "      <td>700</td>\n",
       "      <td>0</td>\n",
       "      <td>0</td>\n",
       "      <td>1</td>\n",
       "      <td>0</td>\n",
       "      <td>0</td>\n",
       "      <td>0</td>\n",
       "      <td>0</td>\n",
       "      <td>1</td>\n",
       "      <td>0</td>\n",
       "      <td>0</td>\n",
       "      <td>0</td>\n",
       "      <td>0</td>\n",
       "    </tr>\n",
       "    <tr>\n",
       "      <th>497</th>\n",
       "      <td>ANTENAS</td>\n",
       "      <td>70014</td>\n",
       "      <td>103</td>\n",
       "      <td>700</td>\n",
       "      <td>0</td>\n",
       "      <td>1</td>\n",
       "      <td>0</td>\n",
       "      <td>0</td>\n",
       "      <td>0</td>\n",
       "      <td>0</td>\n",
       "      <td>0</td>\n",
       "      <td>0</td>\n",
       "      <td>0</td>\n",
       "      <td>1</td>\n",
       "      <td>0</td>\n",
       "      <td>0</td>\n",
       "    </tr>\n",
       "    <tr>\n",
       "      <th>498</th>\n",
       "      <td>SONIDO Y PANTALLAS</td>\n",
       "      <td>70051</td>\n",
       "      <td>120</td>\n",
       "      <td>15000</td>\n",
       "      <td>0</td>\n",
       "      <td>0</td>\n",
       "      <td>0</td>\n",
       "      <td>0</td>\n",
       "      <td>1</td>\n",
       "      <td>0</td>\n",
       "      <td>0</td>\n",
       "      <td>1</td>\n",
       "      <td>0</td>\n",
       "      <td>1</td>\n",
       "      <td>1</td>\n",
       "      <td>0</td>\n",
       "    </tr>\n",
       "    <tr>\n",
       "      <th>499</th>\n",
       "      <td>REVOLVEDORA DE TORTILLERIA</td>\n",
       "      <td>70080</td>\n",
       "      <td>103</td>\n",
       "      <td>2300</td>\n",
       "      <td>0</td>\n",
       "      <td>1</td>\n",
       "      <td>0</td>\n",
       "      <td>0</td>\n",
       "      <td>0</td>\n",
       "      <td>0</td>\n",
       "      <td>0</td>\n",
       "      <td>0</td>\n",
       "      <td>0</td>\n",
       "      <td>0</td>\n",
       "      <td>1</td>\n",
       "      <td>0</td>\n",
       "    </tr>\n",
       "  </tbody>\n",
       "</table>\n",
       "<p>500 rows × 16 columns</p>\n",
       "</div>"
      ],
      "text/plain": [
       "                         Equipo  Tienda  Proveedor  Costo  Enero  Febrero  \\\n",
       "0                       ANTENAS   70068        110  15000      0        0   \n",
       "1            SONIDO Y PANTALLAS   70000        104    700      0        1   \n",
       "2                       BASCULA   70050        100   2300      1        0   \n",
       "3             PULIDORA DE PISOS   70091        107   2300      0        0   \n",
       "4                        HORNOS   70071        125   2300      0        1   \n",
       "..                          ...     ...        ...    ...    ...      ...   \n",
       "495      SISTEMA HIDRONEUMATICO   70036        122    700      0        0   \n",
       "496           PULIDORA DE PISOS   70024        115    700      0        0   \n",
       "497                     ANTENAS   70014        103    700      0        1   \n",
       "498          SONIDO Y PANTALLAS   70051        120  15000      0        0   \n",
       "499  REVOLVEDORA DE TORTILLERIA   70080        103   2300      0        1   \n",
       "\n",
       "     Marzo  Abril  Mayo  Junio  Julio  Agosto  Septiembre  Octubre  Noviembre  \\\n",
       "0        0      1     0      0      1       0           0        0          1   \n",
       "1        0      1     1      1      0       0           1        0          0   \n",
       "2        1      1     0      0      0       0           0        1          1   \n",
       "3        0      0     0      0      0       0           0        0          0   \n",
       "4        1      1     0      1      1       0           0        1          0   \n",
       "..     ...    ...   ...    ...    ...     ...         ...      ...        ...   \n",
       "495      0      1     0      0      0       0           0        0          0   \n",
       "496      1      0     0      0      0       1           0        0          0   \n",
       "497      0      0     0      0      0       0           0        1          0   \n",
       "498      0      0     1      0      0       1           0        1          1   \n",
       "499      0      0     0      0      0       0           0        0          1   \n",
       "\n",
       "     Diciembre  \n",
       "0            0  \n",
       "1            0  \n",
       "2            0  \n",
       "3            1  \n",
       "4            0  \n",
       "..         ...  \n",
       "495          0  \n",
       "496          0  \n",
       "497          0  \n",
       "498          0  \n",
       "499          0  \n",
       "\n",
       "[500 rows x 16 columns]"
      ]
     },
     "execution_count": 2,
     "metadata": {},
     "output_type": "execute_result"
    }
   ],
   "source": [
    "mante = pd.read_csv('dataset_mantenimiento.csv')\n",
    "mante"
   ]
  },
  {
   "cell_type": "markdown",
   "id": "01a4ad59-7252-486e-b7ac-19c1f7f31cf0",
   "metadata": {},
   "source": [
    "### ¿Cuáles son los 5 proveedores que más cobraron en el año?"
   ]
  },
  {
   "cell_type": "code",
   "execution_count": 3,
   "id": "67805a8f-86d2-4645-b09c-ea02507ee875",
   "metadata": {},
   "outputs": [
    {
     "data": {
      "text/html": [
       "<div>\n",
       "<style scoped>\n",
       "    .dataframe tbody tr th:only-of-type {\n",
       "        vertical-align: middle;\n",
       "    }\n",
       "\n",
       "    .dataframe tbody tr th {\n",
       "        vertical-align: top;\n",
       "    }\n",
       "\n",
       "    .dataframe thead th {\n",
       "        text-align: right;\n",
       "    }\n",
       "</style>\n",
       "<table border=\"1\" class=\"dataframe\">\n",
       "  <thead>\n",
       "    <tr style=\"text-align: right;\">\n",
       "      <th></th>\n",
       "      <th>Tienda</th>\n",
       "      <th>Costo</th>\n",
       "      <th>Enero</th>\n",
       "      <th>Febrero</th>\n",
       "      <th>Marzo</th>\n",
       "      <th>Abril</th>\n",
       "      <th>Mayo</th>\n",
       "      <th>Junio</th>\n",
       "      <th>Julio</th>\n",
       "      <th>Agosto</th>\n",
       "      <th>Septiembre</th>\n",
       "      <th>Octubre</th>\n",
       "      <th>Noviembre</th>\n",
       "      <th>Diciembre</th>\n",
       "      <th>Servicios</th>\n",
       "      <th>Total</th>\n",
       "    </tr>\n",
       "    <tr>\n",
       "      <th>Proveedor</th>\n",
       "      <th></th>\n",
       "      <th></th>\n",
       "      <th></th>\n",
       "      <th></th>\n",
       "      <th></th>\n",
       "      <th></th>\n",
       "      <th></th>\n",
       "      <th></th>\n",
       "      <th></th>\n",
       "      <th></th>\n",
       "      <th></th>\n",
       "      <th></th>\n",
       "      <th></th>\n",
       "      <th></th>\n",
       "      <th></th>\n",
       "      <th></th>\n",
       "    </tr>\n",
       "  </thead>\n",
       "  <tbody>\n",
       "    <tr>\n",
       "      <th>118</th>\n",
       "      <td>1611063</td>\n",
       "      <td>63100</td>\n",
       "      <td>7</td>\n",
       "      <td>7</td>\n",
       "      <td>5</td>\n",
       "      <td>8</td>\n",
       "      <td>7</td>\n",
       "      <td>7</td>\n",
       "      <td>7</td>\n",
       "      <td>4</td>\n",
       "      <td>5</td>\n",
       "      <td>8</td>\n",
       "      <td>5</td>\n",
       "      <td>10</td>\n",
       "      <td>70</td>\n",
       "      <td>243700</td>\n",
       "    </tr>\n",
       "    <tr>\n",
       "      <th>122</th>\n",
       "      <td>1471150</td>\n",
       "      <td>74400</td>\n",
       "      <td>8</td>\n",
       "      <td>5</td>\n",
       "      <td>7</td>\n",
       "      <td>11</td>\n",
       "      <td>2</td>\n",
       "      <td>2</td>\n",
       "      <td>5</td>\n",
       "      <td>7</td>\n",
       "      <td>3</td>\n",
       "      <td>5</td>\n",
       "      <td>3</td>\n",
       "      <td>2</td>\n",
       "      <td>58</td>\n",
       "      <td>230800</td>\n",
       "    </tr>\n",
       "    <tr>\n",
       "      <th>120</th>\n",
       "      <td>1260937</td>\n",
       "      <td>57600</td>\n",
       "      <td>7</td>\n",
       "      <td>6</td>\n",
       "      <td>6</td>\n",
       "      <td>6</td>\n",
       "      <td>4</td>\n",
       "      <td>7</td>\n",
       "      <td>2</td>\n",
       "      <td>4</td>\n",
       "      <td>9</td>\n",
       "      <td>10</td>\n",
       "      <td>9</td>\n",
       "      <td>8</td>\n",
       "      <td>70</td>\n",
       "      <td>229000</td>\n",
       "    </tr>\n",
       "    <tr>\n",
       "      <th>119</th>\n",
       "      <td>1260938</td>\n",
       "      <td>54000</td>\n",
       "      <td>5</td>\n",
       "      <td>2</td>\n",
       "      <td>10</td>\n",
       "      <td>6</td>\n",
       "      <td>4</td>\n",
       "      <td>6</td>\n",
       "      <td>7</td>\n",
       "      <td>5</td>\n",
       "      <td>6</td>\n",
       "      <td>4</td>\n",
       "      <td>5</td>\n",
       "      <td>3</td>\n",
       "      <td>60</td>\n",
       "      <td>221800</td>\n",
       "    </tr>\n",
       "    <tr>\n",
       "      <th>115</th>\n",
       "      <td>1961370</td>\n",
       "      <td>55200</td>\n",
       "      <td>9</td>\n",
       "      <td>8</td>\n",
       "      <td>7</td>\n",
       "      <td>9</td>\n",
       "      <td>9</td>\n",
       "      <td>7</td>\n",
       "      <td>10</td>\n",
       "      <td>10</td>\n",
       "      <td>10</td>\n",
       "      <td>10</td>\n",
       "      <td>8</td>\n",
       "      <td>11</td>\n",
       "      <td>97</td>\n",
       "      <td>175200</td>\n",
       "    </tr>\n",
       "  </tbody>\n",
       "</table>\n",
       "</div>"
      ],
      "text/plain": [
       "            Tienda  Costo  Enero  Febrero  Marzo  Abril  Mayo  Junio  Julio  \\\n",
       "Proveedor                                                                     \n",
       "118        1611063  63100      7        7      5      8     7      7      7   \n",
       "122        1471150  74400      8        5      7     11     2      2      5   \n",
       "120        1260937  57600      7        6      6      6     4      7      2   \n",
       "119        1260938  54000      5        2     10      6     4      6      7   \n",
       "115        1961370  55200      9        8      7      9     9      7     10   \n",
       "\n",
       "           Agosto  Septiembre  Octubre  Noviembre  Diciembre  Servicios  \\\n",
       "Proveedor                                                                 \n",
       "118             4           5        8          5         10         70   \n",
       "122             7           3        5          3          2         58   \n",
       "120             4           9       10          9          8         70   \n",
       "119             5           6        4          5          3         60   \n",
       "115            10          10       10          8         11         97   \n",
       "\n",
       "            Total  \n",
       "Proveedor          \n",
       "118        243700  \n",
       "122        230800  \n",
       "120        229000  \n",
       "119        221800  \n",
       "115        175200  "
      ]
     },
     "execution_count": 3,
     "metadata": {},
     "output_type": "execute_result"
    }
   ],
   "source": [
    "mante['Servicios'] = mante.iloc[:,4:15].sum(axis=1) ## Sumamos servicios mensuales\n",
    "mante['Total'] = mante['Servicios']*mante['Costo'] ## Calculamos costo anual\n",
    "mante.groupby(by = ['Proveedor']).sum().sort_values(by = 'Total', ascending = False).head(5) # Los cinco que más cobraron"
   ]
  },
  {
   "cell_type": "markdown",
   "id": "01548aa3-1192-47a3-a9b4-14299de13969",
   "metadata": {},
   "source": [
    "**Los cinco proveedores que más cobraron fueron 115, 118, 119, 120 y 122**"
   ]
  },
  {
   "cell_type": "markdown",
   "id": "3e82f41e-c6c9-4d1e-896c-f8560c2eaf84",
   "metadata": {},
   "source": [
    "### ¿Cuáles son los 5 proveedores que le dieron servicio a más tiendas en el año?"
   ]
  },
  {
   "cell_type": "code",
   "execution_count": 4,
   "id": "d4063683-7514-4322-807e-6bfb632ed2b4",
   "metadata": {},
   "outputs": [
    {
     "data": {
      "text/html": [
       "<div>\n",
       "<style scoped>\n",
       "    .dataframe tbody tr th:only-of-type {\n",
       "        vertical-align: middle;\n",
       "    }\n",
       "\n",
       "    .dataframe tbody tr th {\n",
       "        vertical-align: top;\n",
       "    }\n",
       "\n",
       "    .dataframe thead th {\n",
       "        text-align: right;\n",
       "    }\n",
       "</style>\n",
       "<table border=\"1\" class=\"dataframe\">\n",
       "  <thead>\n",
       "    <tr style=\"text-align: right;\">\n",
       "      <th></th>\n",
       "      <th>Tienda</th>\n",
       "      <th>Costo</th>\n",
       "      <th>Enero</th>\n",
       "      <th>Febrero</th>\n",
       "      <th>Marzo</th>\n",
       "      <th>Abril</th>\n",
       "      <th>Mayo</th>\n",
       "      <th>Junio</th>\n",
       "      <th>Julio</th>\n",
       "      <th>Agosto</th>\n",
       "      <th>Septiembre</th>\n",
       "      <th>Octubre</th>\n",
       "      <th>Noviembre</th>\n",
       "      <th>Diciembre</th>\n",
       "      <th>Servicios</th>\n",
       "      <th>Total</th>\n",
       "    </tr>\n",
       "    <tr>\n",
       "      <th>Proveedor</th>\n",
       "      <th></th>\n",
       "      <th></th>\n",
       "      <th></th>\n",
       "      <th></th>\n",
       "      <th></th>\n",
       "      <th></th>\n",
       "      <th></th>\n",
       "      <th></th>\n",
       "      <th></th>\n",
       "      <th></th>\n",
       "      <th></th>\n",
       "      <th></th>\n",
       "      <th></th>\n",
       "      <th></th>\n",
       "      <th></th>\n",
       "      <th></th>\n",
       "    </tr>\n",
       "  </thead>\n",
       "  <tbody>\n",
       "    <tr>\n",
       "      <th>115</th>\n",
       "      <td>1961370</td>\n",
       "      <td>55200</td>\n",
       "      <td>9</td>\n",
       "      <td>8</td>\n",
       "      <td>7</td>\n",
       "      <td>9</td>\n",
       "      <td>9</td>\n",
       "      <td>7</td>\n",
       "      <td>10</td>\n",
       "      <td>10</td>\n",
       "      <td>10</td>\n",
       "      <td>10</td>\n",
       "      <td>8</td>\n",
       "      <td>11</td>\n",
       "      <td>97</td>\n",
       "      <td>175200</td>\n",
       "    </tr>\n",
       "    <tr>\n",
       "      <th>103</th>\n",
       "      <td>2031286</td>\n",
       "      <td>53800</td>\n",
       "      <td>7</td>\n",
       "      <td>5</td>\n",
       "      <td>9</td>\n",
       "      <td>8</td>\n",
       "      <td>6</td>\n",
       "      <td>10</td>\n",
       "      <td>4</td>\n",
       "      <td>7</td>\n",
       "      <td>6</td>\n",
       "      <td>5</td>\n",
       "      <td>11</td>\n",
       "      <td>10</td>\n",
       "      <td>78</td>\n",
       "      <td>124900</td>\n",
       "    </tr>\n",
       "    <tr>\n",
       "      <th>120</th>\n",
       "      <td>1260937</td>\n",
       "      <td>57600</td>\n",
       "      <td>7</td>\n",
       "      <td>6</td>\n",
       "      <td>6</td>\n",
       "      <td>6</td>\n",
       "      <td>4</td>\n",
       "      <td>7</td>\n",
       "      <td>2</td>\n",
       "      <td>4</td>\n",
       "      <td>9</td>\n",
       "      <td>10</td>\n",
       "      <td>9</td>\n",
       "      <td>8</td>\n",
       "      <td>70</td>\n",
       "      <td>229000</td>\n",
       "    </tr>\n",
       "    <tr>\n",
       "      <th>118</th>\n",
       "      <td>1611063</td>\n",
       "      <td>63100</td>\n",
       "      <td>7</td>\n",
       "      <td>7</td>\n",
       "      <td>5</td>\n",
       "      <td>8</td>\n",
       "      <td>7</td>\n",
       "      <td>7</td>\n",
       "      <td>7</td>\n",
       "      <td>4</td>\n",
       "      <td>5</td>\n",
       "      <td>8</td>\n",
       "      <td>5</td>\n",
       "      <td>10</td>\n",
       "      <td>70</td>\n",
       "      <td>243700</td>\n",
       "    </tr>\n",
       "    <tr>\n",
       "      <th>102</th>\n",
       "      <td>1330958</td>\n",
       "      <td>39200</td>\n",
       "      <td>5</td>\n",
       "      <td>8</td>\n",
       "      <td>2</td>\n",
       "      <td>5</td>\n",
       "      <td>6</td>\n",
       "      <td>6</td>\n",
       "      <td>7</td>\n",
       "      <td>4</td>\n",
       "      <td>10</td>\n",
       "      <td>8</td>\n",
       "      <td>6</td>\n",
       "      <td>3</td>\n",
       "      <td>67</td>\n",
       "      <td>86900</td>\n",
       "    </tr>\n",
       "  </tbody>\n",
       "</table>\n",
       "</div>"
      ],
      "text/plain": [
       "            Tienda  Costo  Enero  Febrero  Marzo  Abril  Mayo  Junio  Julio  \\\n",
       "Proveedor                                                                     \n",
       "115        1961370  55200      9        8      7      9     9      7     10   \n",
       "103        2031286  53800      7        5      9      8     6     10      4   \n",
       "120        1260937  57600      7        6      6      6     4      7      2   \n",
       "118        1611063  63100      7        7      5      8     7      7      7   \n",
       "102        1330958  39200      5        8      2      5     6      6      7   \n",
       "\n",
       "           Agosto  Septiembre  Octubre  Noviembre  Diciembre  Servicios  \\\n",
       "Proveedor                                                                 \n",
       "115            10          10       10          8         11         97   \n",
       "103             7           6        5         11         10         78   \n",
       "120             4           9       10          9          8         70   \n",
       "118             4           5        8          5         10         70   \n",
       "102             4          10        8          6          3         67   \n",
       "\n",
       "            Total  \n",
       "Proveedor          \n",
       "115        175200  \n",
       "103        124900  \n",
       "120        229000  \n",
       "118        243700  \n",
       "102         86900  "
      ]
     },
     "execution_count": 4,
     "metadata": {},
     "output_type": "execute_result"
    }
   ],
   "source": [
    "mante.groupby(by = ['Proveedor']).sum().sort_values(by = 'Servicios', ascending = False).head(5) # Los cinco que más servicios dieron"
   ]
  },
  {
   "cell_type": "markdown",
   "id": "47f72158-ba33-48b5-ba1d-c18496d1fc4a",
   "metadata": {},
   "source": [
    "**Los cinco proveedores que más cobraron fueron 102, 103, 115, 118, y 120**"
   ]
  },
  {
   "cell_type": "markdown",
   "id": "0c8a2aa8-c667-4407-9653-c7f5a02f5e7b",
   "metadata": {},
   "source": [
    "### ¿Cuál fue la tienda con mayor gasto de mantenimiento en marzo?"
   ]
  },
  {
   "cell_type": "code",
   "execution_count": 5,
   "id": "364cc73f-af38-42d6-b1d2-39b9b5291038",
   "metadata": {},
   "outputs": [
    {
     "data": {
      "text/html": [
       "<div>\n",
       "<style scoped>\n",
       "    .dataframe tbody tr th:only-of-type {\n",
       "        vertical-align: middle;\n",
       "    }\n",
       "\n",
       "    .dataframe tbody tr th {\n",
       "        vertical-align: top;\n",
       "    }\n",
       "\n",
       "    .dataframe thead th {\n",
       "        text-align: right;\n",
       "    }\n",
       "</style>\n",
       "<table border=\"1\" class=\"dataframe\">\n",
       "  <thead>\n",
       "    <tr style=\"text-align: right;\">\n",
       "      <th></th>\n",
       "      <th>Proveedor</th>\n",
       "      <th>Costo</th>\n",
       "      <th>Enero</th>\n",
       "      <th>Febrero</th>\n",
       "      <th>Marzo</th>\n",
       "      <th>Abril</th>\n",
       "      <th>Mayo</th>\n",
       "      <th>Junio</th>\n",
       "      <th>Julio</th>\n",
       "      <th>Agosto</th>\n",
       "      <th>Septiembre</th>\n",
       "      <th>Octubre</th>\n",
       "      <th>Noviembre</th>\n",
       "      <th>Diciembre</th>\n",
       "      <th>Servicios</th>\n",
       "      <th>Total</th>\n",
       "      <th>Marzo Total</th>\n",
       "    </tr>\n",
       "    <tr>\n",
       "      <th>Tienda</th>\n",
       "      <th></th>\n",
       "      <th></th>\n",
       "      <th></th>\n",
       "      <th></th>\n",
       "      <th></th>\n",
       "      <th></th>\n",
       "      <th></th>\n",
       "      <th></th>\n",
       "      <th></th>\n",
       "      <th></th>\n",
       "      <th></th>\n",
       "      <th></th>\n",
       "      <th></th>\n",
       "      <th></th>\n",
       "      <th></th>\n",
       "      <th></th>\n",
       "      <th></th>\n",
       "    </tr>\n",
       "  </thead>\n",
       "  <tbody>\n",
       "    <tr>\n",
       "      <th>70023</th>\n",
       "      <td>675</td>\n",
       "      <td>21700</td>\n",
       "      <td>4</td>\n",
       "      <td>2</td>\n",
       "      <td>4</td>\n",
       "      <td>1</td>\n",
       "      <td>2</td>\n",
       "      <td>2</td>\n",
       "      <td>2</td>\n",
       "      <td>1</td>\n",
       "      <td>3</td>\n",
       "      <td>2</td>\n",
       "      <td>1</td>\n",
       "      <td>0</td>\n",
       "      <td>24</td>\n",
       "      <td>129700</td>\n",
       "      <td>18700</td>\n",
       "    </tr>\n",
       "    <tr>\n",
       "      <th>70002</th>\n",
       "      <td>795</td>\n",
       "      <td>22800</td>\n",
       "      <td>2</td>\n",
       "      <td>2</td>\n",
       "      <td>3</td>\n",
       "      <td>3</td>\n",
       "      <td>3</td>\n",
       "      <td>3</td>\n",
       "      <td>0</td>\n",
       "      <td>1</td>\n",
       "      <td>1</td>\n",
       "      <td>0</td>\n",
       "      <td>2</td>\n",
       "      <td>2</td>\n",
       "      <td>20</td>\n",
       "      <td>82400</td>\n",
       "      <td>18400</td>\n",
       "    </tr>\n",
       "    <tr>\n",
       "      <th>70042</th>\n",
       "      <td>660</td>\n",
       "      <td>20500</td>\n",
       "      <td>2</td>\n",
       "      <td>0</td>\n",
       "      <td>3</td>\n",
       "      <td>3</td>\n",
       "      <td>0</td>\n",
       "      <td>1</td>\n",
       "      <td>2</td>\n",
       "      <td>2</td>\n",
       "      <td>0</td>\n",
       "      <td>1</td>\n",
       "      <td>1</td>\n",
       "      <td>4</td>\n",
       "      <td>15</td>\n",
       "      <td>43100</td>\n",
       "      <td>18400</td>\n",
       "    </tr>\n",
       "    <tr>\n",
       "      <th>70010</th>\n",
       "      <td>660</td>\n",
       "      <td>23300</td>\n",
       "      <td>1</td>\n",
       "      <td>0</td>\n",
       "      <td>3</td>\n",
       "      <td>4</td>\n",
       "      <td>2</td>\n",
       "      <td>3</td>\n",
       "      <td>1</td>\n",
       "      <td>1</td>\n",
       "      <td>3</td>\n",
       "      <td>0</td>\n",
       "      <td>2</td>\n",
       "      <td>2</td>\n",
       "      <td>20</td>\n",
       "      <td>85600</td>\n",
       "      <td>18000</td>\n",
       "    </tr>\n",
       "    <tr>\n",
       "      <th>70078</th>\n",
       "      <td>471</td>\n",
       "      <td>18700</td>\n",
       "      <td>1</td>\n",
       "      <td>2</td>\n",
       "      <td>1</td>\n",
       "      <td>1</td>\n",
       "      <td>0</td>\n",
       "      <td>3</td>\n",
       "      <td>2</td>\n",
       "      <td>3</td>\n",
       "      <td>0</td>\n",
       "      <td>1</td>\n",
       "      <td>2</td>\n",
       "      <td>2</td>\n",
       "      <td>16</td>\n",
       "      <td>105000</td>\n",
       "      <td>15000</td>\n",
       "    </tr>\n",
       "  </tbody>\n",
       "</table>\n",
       "</div>"
      ],
      "text/plain": [
       "        Proveedor  Costo  Enero  Febrero  Marzo  Abril  Mayo  Junio  Julio  \\\n",
       "Tienda                                                                       \n",
       "70023         675  21700      4        2      4      1     2      2      2   \n",
       "70002         795  22800      2        2      3      3     3      3      0   \n",
       "70042         660  20500      2        0      3      3     0      1      2   \n",
       "70010         660  23300      1        0      3      4     2      3      1   \n",
       "70078         471  18700      1        2      1      1     0      3      2   \n",
       "\n",
       "        Agosto  Septiembre  Octubre  Noviembre  Diciembre  Servicios   Total  \\\n",
       "Tienda                                                                         \n",
       "70023        1           3        2          1          0         24  129700   \n",
       "70002        1           1        0          2          2         20   82400   \n",
       "70042        2           0        1          1          4         15   43100   \n",
       "70010        1           3        0          2          2         20   85600   \n",
       "70078        3           0        1          2          2         16  105000   \n",
       "\n",
       "        Marzo Total  \n",
       "Tienda               \n",
       "70023         18700  \n",
       "70002         18400  \n",
       "70042         18400  \n",
       "70010         18000  \n",
       "70078         15000  "
      ]
     },
     "execution_count": 5,
     "metadata": {},
     "output_type": "execute_result"
    }
   ],
   "source": [
    "mante['Marzo Total'] = mante['Marzo']*mante['Costo'] ## Calculamos costo en marzo\n",
    "mante.groupby(by = ['Tienda']).sum().sort_values(by = 'Marzo Total', ascending = False).head(5) # Las cinco que más gastaron en marzo"
   ]
  },
  {
   "cell_type": "markdown",
   "id": "6c000679-f9d5-4305-9d3b-5c0480aa80dc",
   "metadata": {},
   "source": [
    "**Las tiendas que más gastaron fueron 70002, 70010, 70023, 70042 y 70078**"
   ]
  },
  {
   "cell_type": "markdown",
   "id": "7db943a2-5ed8-4028-ada7-110b408a7c96",
   "metadata": {},
   "source": [
    "### ¿Cuál fue la tienda con mayor gasto de mantenimiento en julio?"
   ]
  },
  {
   "cell_type": "code",
   "execution_count": 6,
   "id": "fd25cfd9-51ee-4678-af5f-9d6d6e7eafef",
   "metadata": {},
   "outputs": [
    {
     "data": {
      "text/html": [
       "<div>\n",
       "<style scoped>\n",
       "    .dataframe tbody tr th:only-of-type {\n",
       "        vertical-align: middle;\n",
       "    }\n",
       "\n",
       "    .dataframe tbody tr th {\n",
       "        vertical-align: top;\n",
       "    }\n",
       "\n",
       "    .dataframe thead th {\n",
       "        text-align: right;\n",
       "    }\n",
       "</style>\n",
       "<table border=\"1\" class=\"dataframe\">\n",
       "  <thead>\n",
       "    <tr style=\"text-align: right;\">\n",
       "      <th></th>\n",
       "      <th>Proveedor</th>\n",
       "      <th>Costo</th>\n",
       "      <th>Enero</th>\n",
       "      <th>Febrero</th>\n",
       "      <th>Marzo</th>\n",
       "      <th>Abril</th>\n",
       "      <th>Mayo</th>\n",
       "      <th>Junio</th>\n",
       "      <th>Julio</th>\n",
       "      <th>Agosto</th>\n",
       "      <th>Septiembre</th>\n",
       "      <th>Octubre</th>\n",
       "      <th>Noviembre</th>\n",
       "      <th>Diciembre</th>\n",
       "      <th>Servicios</th>\n",
       "      <th>Total</th>\n",
       "      <th>Marzo Total</th>\n",
       "      <th>Julio Total</th>\n",
       "    </tr>\n",
       "    <tr>\n",
       "      <th>Tienda</th>\n",
       "      <th></th>\n",
       "      <th></th>\n",
       "      <th></th>\n",
       "      <th></th>\n",
       "      <th></th>\n",
       "      <th></th>\n",
       "      <th></th>\n",
       "      <th></th>\n",
       "      <th></th>\n",
       "      <th></th>\n",
       "      <th></th>\n",
       "      <th></th>\n",
       "      <th></th>\n",
       "      <th></th>\n",
       "      <th></th>\n",
       "      <th></th>\n",
       "      <th></th>\n",
       "      <th></th>\n",
       "    </tr>\n",
       "  </thead>\n",
       "  <tbody>\n",
       "    <tr>\n",
       "      <th>70028</th>\n",
       "      <td>670</td>\n",
       "      <td>38400</td>\n",
       "      <td>2</td>\n",
       "      <td>1</td>\n",
       "      <td>1</td>\n",
       "      <td>4</td>\n",
       "      <td>1</td>\n",
       "      <td>0</td>\n",
       "      <td>4</td>\n",
       "      <td>2</td>\n",
       "      <td>1</td>\n",
       "      <td>3</td>\n",
       "      <td>2</td>\n",
       "      <td>1</td>\n",
       "      <td>21</td>\n",
       "      <td>151500</td>\n",
       "      <td>2300</td>\n",
       "      <td>37000</td>\n",
       "    </tr>\n",
       "    <tr>\n",
       "      <th>70068</th>\n",
       "      <td>900</td>\n",
       "      <td>26300</td>\n",
       "      <td>0</td>\n",
       "      <td>2</td>\n",
       "      <td>3</td>\n",
       "      <td>3</td>\n",
       "      <td>3</td>\n",
       "      <td>2</td>\n",
       "      <td>4</td>\n",
       "      <td>2</td>\n",
       "      <td>3</td>\n",
       "      <td>3</td>\n",
       "      <td>5</td>\n",
       "      <td>3</td>\n",
       "      <td>30</td>\n",
       "      <td>91100</td>\n",
       "      <td>5300</td>\n",
       "      <td>20300</td>\n",
       "    </tr>\n",
       "    <tr>\n",
       "      <th>70057</th>\n",
       "      <td>439</td>\n",
       "      <td>20400</td>\n",
       "      <td>1</td>\n",
       "      <td>1</td>\n",
       "      <td>0</td>\n",
       "      <td>2</td>\n",
       "      <td>1</td>\n",
       "      <td>1</td>\n",
       "      <td>2</td>\n",
       "      <td>0</td>\n",
       "      <td>1</td>\n",
       "      <td>1</td>\n",
       "      <td>2</td>\n",
       "      <td>3</td>\n",
       "      <td>12</td>\n",
       "      <td>61200</td>\n",
       "      <td>0</td>\n",
       "      <td>19000</td>\n",
       "    </tr>\n",
       "    <tr>\n",
       "      <th>70070</th>\n",
       "      <td>841</td>\n",
       "      <td>24400</td>\n",
       "      <td>2</td>\n",
       "      <td>0</td>\n",
       "      <td>3</td>\n",
       "      <td>3</td>\n",
       "      <td>0</td>\n",
       "      <td>2</td>\n",
       "      <td>2</td>\n",
       "      <td>1</td>\n",
       "      <td>1</td>\n",
       "      <td>3</td>\n",
       "      <td>1</td>\n",
       "      <td>3</td>\n",
       "      <td>18</td>\n",
       "      <td>84200</td>\n",
       "      <td>2100</td>\n",
       "      <td>17700</td>\n",
       "    </tr>\n",
       "    <tr>\n",
       "      <th>70078</th>\n",
       "      <td>471</td>\n",
       "      <td>18700</td>\n",
       "      <td>1</td>\n",
       "      <td>2</td>\n",
       "      <td>1</td>\n",
       "      <td>1</td>\n",
       "      <td>0</td>\n",
       "      <td>3</td>\n",
       "      <td>2</td>\n",
       "      <td>3</td>\n",
       "      <td>0</td>\n",
       "      <td>1</td>\n",
       "      <td>2</td>\n",
       "      <td>2</td>\n",
       "      <td>16</td>\n",
       "      <td>105000</td>\n",
       "      <td>15000</td>\n",
       "      <td>17300</td>\n",
       "    </tr>\n",
       "  </tbody>\n",
       "</table>\n",
       "</div>"
      ],
      "text/plain": [
       "        Proveedor  Costo  Enero  Febrero  Marzo  Abril  Mayo  Junio  Julio  \\\n",
       "Tienda                                                                       \n",
       "70028         670  38400      2        1      1      4     1      0      4   \n",
       "70068         900  26300      0        2      3      3     3      2      4   \n",
       "70057         439  20400      1        1      0      2     1      1      2   \n",
       "70070         841  24400      2        0      3      3     0      2      2   \n",
       "70078         471  18700      1        2      1      1     0      3      2   \n",
       "\n",
       "        Agosto  Septiembre  Octubre  Noviembre  Diciembre  Servicios   Total  \\\n",
       "Tienda                                                                         \n",
       "70028        2           1        3          2          1         21  151500   \n",
       "70068        2           3        3          5          3         30   91100   \n",
       "70057        0           1        1          2          3         12   61200   \n",
       "70070        1           1        3          1          3         18   84200   \n",
       "70078        3           0        1          2          2         16  105000   \n",
       "\n",
       "        Marzo Total  Julio Total  \n",
       "Tienda                            \n",
       "70028          2300        37000  \n",
       "70068          5300        20300  \n",
       "70057             0        19000  \n",
       "70070          2100        17700  \n",
       "70078         15000        17300  "
      ]
     },
     "execution_count": 6,
     "metadata": {},
     "output_type": "execute_result"
    }
   ],
   "source": [
    "mante['Julio Total'] = mante['Julio']*mante['Costo'] ## Calculamos costo en julio\n",
    "mante.groupby(by = ['Tienda']).sum().sort_values(by = 'Julio Total', ascending = False).head(5) # Las cinco que más gastaron en julio"
   ]
  },
  {
   "cell_type": "markdown",
   "id": "0abbf041-cb1c-4032-a10d-44260f0d7c53",
   "metadata": {},
   "source": [
    "**Las tiendas que más gastaron fueron 70028, 70057, 70068, 70070, 70078**"
   ]
  },
  {
   "cell_type": "markdown",
   "id": "1b5f93bf-71e3-42f1-8786-b701db29586b",
   "metadata": {},
   "source": [
    "### ¿Cuál fue la tienda con mayor gasto de mantenimiento en todo el año?"
   ]
  },
  {
   "cell_type": "code",
   "execution_count": 7,
   "id": "1f9d121e-751f-445c-9f8c-33e86cd1d423",
   "metadata": {},
   "outputs": [
    {
     "data": {
      "text/html": [
       "<div>\n",
       "<style scoped>\n",
       "    .dataframe tbody tr th:only-of-type {\n",
       "        vertical-align: middle;\n",
       "    }\n",
       "\n",
       "    .dataframe tbody tr th {\n",
       "        vertical-align: top;\n",
       "    }\n",
       "\n",
       "    .dataframe thead th {\n",
       "        text-align: right;\n",
       "    }\n",
       "</style>\n",
       "<table border=\"1\" class=\"dataframe\">\n",
       "  <thead>\n",
       "    <tr style=\"text-align: right;\">\n",
       "      <th></th>\n",
       "      <th>Proveedor</th>\n",
       "      <th>Costo</th>\n",
       "      <th>Enero</th>\n",
       "      <th>Febrero</th>\n",
       "      <th>Marzo</th>\n",
       "      <th>Abril</th>\n",
       "      <th>Mayo</th>\n",
       "      <th>Junio</th>\n",
       "      <th>Julio</th>\n",
       "      <th>Agosto</th>\n",
       "      <th>Septiembre</th>\n",
       "      <th>Octubre</th>\n",
       "      <th>Noviembre</th>\n",
       "      <th>Diciembre</th>\n",
       "      <th>Servicios</th>\n",
       "      <th>Total</th>\n",
       "      <th>Marzo Total</th>\n",
       "      <th>Julio Total</th>\n",
       "    </tr>\n",
       "    <tr>\n",
       "      <th>Tienda</th>\n",
       "      <th></th>\n",
       "      <th></th>\n",
       "      <th></th>\n",
       "      <th></th>\n",
       "      <th></th>\n",
       "      <th></th>\n",
       "      <th></th>\n",
       "      <th></th>\n",
       "      <th></th>\n",
       "      <th></th>\n",
       "      <th></th>\n",
       "      <th></th>\n",
       "      <th></th>\n",
       "      <th></th>\n",
       "      <th></th>\n",
       "      <th></th>\n",
       "      <th></th>\n",
       "      <th></th>\n",
       "    </tr>\n",
       "  </thead>\n",
       "  <tbody>\n",
       "    <tr>\n",
       "      <th>70028</th>\n",
       "      <td>670</td>\n",
       "      <td>38400</td>\n",
       "      <td>2</td>\n",
       "      <td>1</td>\n",
       "      <td>1</td>\n",
       "      <td>4</td>\n",
       "      <td>1</td>\n",
       "      <td>0</td>\n",
       "      <td>4</td>\n",
       "      <td>2</td>\n",
       "      <td>1</td>\n",
       "      <td>3</td>\n",
       "      <td>2</td>\n",
       "      <td>1</td>\n",
       "      <td>21</td>\n",
       "      <td>151500</td>\n",
       "      <td>2300</td>\n",
       "      <td>37000</td>\n",
       "    </tr>\n",
       "  </tbody>\n",
       "</table>\n",
       "</div>"
      ],
      "text/plain": [
       "        Proveedor  Costo  Enero  Febrero  Marzo  Abril  Mayo  Junio  Julio  \\\n",
       "Tienda                                                                       \n",
       "70028         670  38400      2        1      1      4     1      0      4   \n",
       "\n",
       "        Agosto  Septiembre  Octubre  Noviembre  Diciembre  Servicios   Total  \\\n",
       "Tienda                                                                         \n",
       "70028        2           1        3          2          1         21  151500   \n",
       "\n",
       "        Marzo Total  Julio Total  \n",
       "Tienda                            \n",
       "70028          2300        37000  "
      ]
     },
     "execution_count": 7,
     "metadata": {},
     "output_type": "execute_result"
    }
   ],
   "source": [
    "mante.groupby(by = ['Tienda']).sum().sort_values(by = 'Total', ascending = False).head(1) # La que gastó más en todo el año"
   ]
  },
  {
   "cell_type": "markdown",
   "id": "3d180859-abd3-4a7c-b5e1-02a942a2c9a6",
   "metadata": {},
   "source": [
    "**Las tienda que más gastó fue la 70028**"
   ]
  },
  {
   "cell_type": "markdown",
   "id": "cbb81bea-330f-4872-8d37-1a388dd710bb",
   "metadata": {},
   "source": [
    "### ¿Cuál es el mes en que se gastó más en mantenimiento a balanceadoras?"
   ]
  },
  {
   "cell_type": "code",
   "execution_count": 8,
   "id": "ba27e4dc-0314-4952-9859-382b4e1aca95",
   "metadata": {},
   "outputs": [
    {
     "data": {
      "text/plain": [
       "Enero         56500\n",
       "Febrero       46200\n",
       "Marzo         30700\n",
       "Abril         47000\n",
       "Mayo          25100\n",
       "Junio         14400\n",
       "Julio         26500\n",
       "Agosto         8100\n",
       "Septiembre    40800\n",
       "Octubre       29800\n",
       "Noviembre      9800\n",
       "Diciembre      9100\n",
       "dtype: int64"
      ]
     },
     "execution_count": 8,
     "metadata": {},
     "output_type": "execute_result"
    }
   ],
   "source": [
    "mante_bala = mante[mante['Equipo'] == 'BALANCEADORA'] ## Seleccionamos balanceadoras\n",
    "mbt = mante_bala[['Enero', 'Febrero', 'Marzo', 'Abril', 'Mayo', 'Junio', 'Julio',\n",
    "                  'Agosto', 'Septiembre', 'Octubre', 'Noviembre', 'Diciembre']].multiply(mante_bala['Costo'],\n",
    "                                                                                         axis = 'index') ## Calculando totales por mes\n",
    "mbt.sum()"
   ]
  },
  {
   "cell_type": "markdown",
   "id": "b951b391-f5f9-4b79-a2d1-61a8c6e83e7e",
   "metadata": {},
   "source": [
    "**En enero se gastó más en mantenimiento de balanceadoras**"
   ]
  },
  {
   "cell_type": "markdown",
   "id": "dfa86fec-45c2-4a3d-9982-bf6352254122",
   "metadata": {},
   "source": [
    "### ¿Cuánto se gastó por cada tipo de artículo en septiembre?"
   ]
  },
  {
   "cell_type": "code",
   "execution_count": 9,
   "id": "057af213-02d2-4773-af20-e3111cedc361",
   "metadata": {},
   "outputs": [
    {
     "data": {
      "text/plain": [
       "Equipo\n",
       "ABRILLANTADORA DE PISOS        8800\n",
       "ANDAMIOS                      20300\n",
       "ANTENAS                        9000\n",
       "BALANCEADORA                  40800\n",
       "BASCULA                       37200\n",
       "CAJA REGISTRADORA              7900\n",
       "EXHIBIDOR                     32100\n",
       "HORNOS                        11300\n",
       "PULIDORA DE PISOS              5800\n",
       "REBANADORA                    15800\n",
       "REVOLVEDORA DE TORTILLERIA     9000\n",
       "SISTEMA HIDRONEUMATICO         9100\n",
       "SONIDO Y PANTALLAS            21000\n",
       "TERMOSELLADORA                25800\n",
       "VAPORERA                      28400\n",
       "Name: Septiembre Total, dtype: int64"
      ]
     },
     "execution_count": 9,
     "metadata": {},
     "output_type": "execute_result"
    }
   ],
   "source": [
    "mante['Septiembre Total'] = mante['Septiembre']*mante['Costo'] ## Calculamos costo en septiembre\n",
    "mante_eqspt = mante.groupby(by = ['Equipo']).sum()\n",
    "mante_eqspt['Septiembre Total']"
   ]
  },
  {
   "cell_type": "markdown",
   "id": "b0216513-d0a1-4d80-acbc-37664b024927",
   "metadata": {},
   "source": [
    "### ¿Cuánto se gastó por cada proveedor en mayo?"
   ]
  },
  {
   "cell_type": "code",
   "execution_count": 10,
   "id": "5b3ae028-2e82-4d67-bad4-07e27ff6983e",
   "metadata": {},
   "outputs": [
    {
     "data": {
      "text/plain": [
       "Proveedor\n",
       "100     3700\n",
       "101     5300\n",
       "102     9000\n",
       "103    10600\n",
       "104     9100\n",
       "105     5300\n",
       "106     7600\n",
       "107     4400\n",
       "108     1400\n",
       "109     3700\n",
       "110     8100\n",
       "111     3700\n",
       "112    24100\n",
       "113     2100\n",
       "114     5100\n",
       "115    17800\n",
       "116      700\n",
       "117     4400\n",
       "118    42300\n",
       "119     4400\n",
       "120    21900\n",
       "121    10100\n",
       "122     3000\n",
       "123     2300\n",
       "124    27600\n",
       "125     4600\n",
       "126     3700\n",
       "127    10600\n",
       "128     4200\n",
       "129     1400\n",
       "Name: Mayo Total, dtype: int64"
      ]
     },
     "execution_count": 10,
     "metadata": {},
     "output_type": "execute_result"
    }
   ],
   "source": [
    "mante['Mayo Total'] = mante['Mayo']*mante['Costo'] ## Calculamos costo en mayo\n",
    "mante_eqmay = mante.groupby(by = ['Proveedor']).sum()\n",
    "mante_eqmay['Mayo Total']"
   ]
  },
  {
   "cell_type": "markdown",
   "id": "83a2f77f-9917-4f11-92aa-38baef6bb8a7",
   "metadata": {},
   "source": [
    "### ¿Cuánto se gastó por cada tipo de artículo en el año?"
   ]
  },
  {
   "cell_type": "code",
   "execution_count": 11,
   "id": "de205240-9faa-4319-804a-67e6379a41d1",
   "metadata": {},
   "outputs": [
    {
     "data": {
      "text/plain": [
       "Equipo\n",
       "ABRILLANTADORA DE PISOS       199300\n",
       "ANDAMIOS                      244600\n",
       "ANTENAS                       318400\n",
       "BALANCEADORA                  334900\n",
       "BASCULA                       230000\n",
       "CAJA REGISTRADORA             165500\n",
       "EXHIBIDOR                     304300\n",
       "HORNOS                        276900\n",
       "PULIDORA DE PISOS             151100\n",
       "REBANADORA                    135800\n",
       "REVOLVEDORA DE TORTILLERIA    160200\n",
       "SISTEMA HIDRONEUMATICO        215700\n",
       "SONIDO Y PANTALLAS            207200\n",
       "TERMOSELLADORA                166500\n",
       "VAPORERA                      281500\n",
       "Name: Total, dtype: int64"
      ]
     },
     "execution_count": 11,
     "metadata": {},
     "output_type": "execute_result"
    }
   ],
   "source": [
    "mante_eqtot = mante.groupby(by = ['Equipo']).sum()\n",
    "mante_eqtot['Total']"
   ]
  },
  {
   "cell_type": "markdown",
   "id": "3ede9894-a4f7-4392-ab96-f4aac3ebbaf4",
   "metadata": {},
   "source": [
    "### Genera una función para obtener el número total de servicios a antenas por mes."
   ]
  },
  {
   "cell_type": "code",
   "execution_count": 12,
   "id": "0db23282-c70f-4525-b29e-3c30bac9a7d5",
   "metadata": {},
   "outputs": [],
   "source": [
    "def serv_ant(mes):\n",
    "    mantena = mante[mante['Equipo'] == 'ANTENAS']\n",
    "    mantena = mantena.iloc[:, 4:15]\n",
    "    servici = mantena.iloc[:, (mes-1):mes].sum()\n",
    "    print(servici)"
   ]
  },
  {
   "cell_type": "code",
   "execution_count": 13,
   "id": "c9f35d93-8c85-40ed-9640-e428eadad8eb",
   "metadata": {},
   "outputs": [
    {
     "name": "stdout",
     "output_type": "stream",
     "text": [
      "Abril    15\n",
      "dtype: int64\n"
     ]
    }
   ],
   "source": [
    "serv_ant(4) # Arg es el número del mes"
   ]
  },
  {
   "cell_type": "markdown",
   "id": "fc71ba1d-fded-4a81-b216-7b1aac8803c8",
   "metadata": {},
   "source": [
    "### Los proveedores cuyo número termina en 9 ofrecen 15% de descuento. Mientras que los que terminan en 6 solamente 3% de descuento. Crea una nueva columna que contenga la suma del costo total anual y otra con el costo total anual con descuento incluido."
   ]
  },
  {
   "cell_type": "code",
   "execution_count": 14,
   "id": "1b79efed-39ff-4859-b4b8-973ae60e4706",
   "metadata": {},
   "outputs": [],
   "source": [
    "mante['Proveedor'] = mante['Proveedor'].apply(str)\n",
    "mante['Termina en'] = mante['Proveedor'].str[-1:] # Checando el último dígito\n",
    "Desc15 = mante[mante['Termina en'] == '9'].reset_index()\n",
    "Desc03 = mante[mante['Termina en'] == '6'].reset_index() # Separando por descuento\n",
    "Desc00 = mante[(mante['Termina en'] != '9') & (mante['Termina en'] != '6')].reset_index()"
   ]
  },
  {
   "cell_type": "code",
   "execution_count": 15,
   "id": "eb3aae32-35fc-46b1-8227-c0c86bfaa139",
   "metadata": {},
   "outputs": [],
   "source": [
    "Desc15['Total con Descuento'] = Desc15['Total']*0.85\n",
    "Desc03['Total con Descuento'] = Desc03['Total']*0.97 # Calculado descuentos\n",
    "Desc00['Total con Descuento'] = Desc00['Total']"
   ]
  },
  {
   "cell_type": "code",
   "execution_count": 16,
   "id": "1222ba8f-a6cc-4f0b-adcd-073822c052cb",
   "metadata": {},
   "outputs": [
    {
     "data": {
      "text/html": [
       "<div>\n",
       "<style scoped>\n",
       "    .dataframe tbody tr th:only-of-type {\n",
       "        vertical-align: middle;\n",
       "    }\n",
       "\n",
       "    .dataframe tbody tr th {\n",
       "        vertical-align: top;\n",
       "    }\n",
       "\n",
       "    .dataframe thead th {\n",
       "        text-align: right;\n",
       "    }\n",
       "</style>\n",
       "<table border=\"1\" class=\"dataframe\">\n",
       "  <thead>\n",
       "    <tr style=\"text-align: right;\">\n",
       "      <th></th>\n",
       "      <th>Proveedor</th>\n",
       "      <th>Total</th>\n",
       "      <th>Total con Descuento</th>\n",
       "    </tr>\n",
       "  </thead>\n",
       "  <tbody>\n",
       "    <tr>\n",
       "      <th>0</th>\n",
       "      <td>129</td>\n",
       "      <td>0</td>\n",
       "      <td>0.0</td>\n",
       "    </tr>\n",
       "    <tr>\n",
       "      <th>1</th>\n",
       "      <td>119</td>\n",
       "      <td>16100</td>\n",
       "      <td>13685.0</td>\n",
       "    </tr>\n",
       "    <tr>\n",
       "      <th>2</th>\n",
       "      <td>109</td>\n",
       "      <td>4600</td>\n",
       "      <td>3910.0</td>\n",
       "    </tr>\n",
       "    <tr>\n",
       "      <th>3</th>\n",
       "      <td>109</td>\n",
       "      <td>6900</td>\n",
       "      <td>5865.0</td>\n",
       "    </tr>\n",
       "    <tr>\n",
       "      <th>4</th>\n",
       "      <td>119</td>\n",
       "      <td>4600</td>\n",
       "      <td>3910.0</td>\n",
       "    </tr>\n",
       "    <tr>\n",
       "      <th>...</th>\n",
       "      <td>...</td>\n",
       "      <td>...</td>\n",
       "      <td>...</td>\n",
       "    </tr>\n",
       "    <tr>\n",
       "      <th>406</th>\n",
       "      <td>122</td>\n",
       "      <td>700</td>\n",
       "      <td>700.0</td>\n",
       "    </tr>\n",
       "    <tr>\n",
       "      <th>407</th>\n",
       "      <td>115</td>\n",
       "      <td>1400</td>\n",
       "      <td>1400.0</td>\n",
       "    </tr>\n",
       "    <tr>\n",
       "      <th>408</th>\n",
       "      <td>103</td>\n",
       "      <td>1400</td>\n",
       "      <td>1400.0</td>\n",
       "    </tr>\n",
       "    <tr>\n",
       "      <th>409</th>\n",
       "      <td>120</td>\n",
       "      <td>60000</td>\n",
       "      <td>60000.0</td>\n",
       "    </tr>\n",
       "    <tr>\n",
       "      <th>410</th>\n",
       "      <td>103</td>\n",
       "      <td>4600</td>\n",
       "      <td>4600.0</td>\n",
       "    </tr>\n",
       "  </tbody>\n",
       "</table>\n",
       "<p>500 rows × 3 columns</p>\n",
       "</div>"
      ],
      "text/plain": [
       "    Proveedor  Total  Total con Descuento\n",
       "0         129      0                  0.0\n",
       "1         119  16100              13685.0\n",
       "2         109   4600               3910.0\n",
       "3         109   6900               5865.0\n",
       "4         119   4600               3910.0\n",
       "..        ...    ...                  ...\n",
       "406       122    700                700.0\n",
       "407       115   1400               1400.0\n",
       "408       103   1400               1400.0\n",
       "409       120  60000              60000.0\n",
       "410       103   4600               4600.0\n",
       "\n",
       "[500 rows x 3 columns]"
      ]
     },
     "execution_count": 16,
     "metadata": {},
     "output_type": "execute_result"
    }
   ],
   "source": [
    "Descuentos = pd.concat([Desc15, Desc03, Desc00]) # Reintegrando\n",
    "Descuentos[['Proveedor', 'Total', 'Total con Descuento']]"
   ]
  },
  {
   "cell_type": "markdown",
   "id": "37bcdb69-8d83-45fb-b4da-4a80927b3c06",
   "metadata": {},
   "source": [
    "## Elaboración de un modelo de regresión"
   ]
  },
  {
   "cell_type": "code",
   "execution_count": 17,
   "id": "a5f4d935-19cc-4e3c-8caa-9abc87fcbb1a",
   "metadata": {},
   "outputs": [],
   "source": [
    "train_price = pd.read_csv('train_price.csv')\n",
    "test_price = pd.read_csv('train_price.csv')"
   ]
  },
  {
   "cell_type": "markdown",
   "id": "278d236c-87ef-498a-9bbe-0311f06ea3cf",
   "metadata": {},
   "source": [
    "### Evalúa la correlación de las variables numéricas con el precio"
   ]
  },
  {
   "cell_type": "code",
   "execution_count": 18,
   "id": "f299b631-ca32-4346-ae12-33e6da9ce24e",
   "metadata": {},
   "outputs": [],
   "source": [
    "train_num = train_price[['battery_power', 'clock_speed', 'fc', 'int_memory', 'm_dep', 'mobile_wt', 'n_cores', 'pc',\n",
    "                         'px_height', 'px_width', 'ram', 'sc_h', 'sc_w', 'talk_time', 'three_g', 'price']]"
   ]
  },
  {
   "cell_type": "code",
   "execution_count": 19,
   "id": "d3c4fbe1-3c10-4c6a-8d67-e393407163ac",
   "metadata": {},
   "outputs": [
    {
     "data": {
      "text/plain": [
       "<AxesSubplot:>"
      ]
     },
     "execution_count": 19,
     "metadata": {},
     "output_type": "execute_result"
    },
    {
     "data": {
      "image/png": "[encoded data removed]",
      "text/plain": [
       "<Figure size 1440x1080 with 2 Axes>"
      ]
     },
     "metadata": {
      "needs_background": "light"
     },
     "output_type": "display_data"
    }
   ],
   "source": [
    "tcorr = train_num.corr()\n",
    "\n",
    "import matplotlib.pyplot as plt\n",
    "fig, ax = plt.subplots(figsize=(20,15))\n",
    "sns.heatmap(tcorr, annot = True)"
   ]
  },
  {
   "cell_type": "markdown",
   "id": "69057046-a0c6-4e41-9bf4-254326b76d96",
   "metadata": {},
   "source": [
    "**La única correlación importante significativa del precio es con la RAM**"
   ]
  },
  {
   "cell_type": "markdown",
   "id": "a434d375-7a43-4653-a4d9-28ccd67abe16",
   "metadata": {},
   "source": [
    "### Evalúa el efecto que tienen las variables categóricas con el precio"
   ]
  },
  {
   "cell_type": "code",
   "execution_count": 20,
   "id": "0c0c4752-c082-422c-8b33-3562e6db40be",
   "metadata": {},
   "outputs": [],
   "source": [
    "train_cat = train_price[['blue', 'dual_sim', 'four_g', 'three_g', 'touch_screen', 'wifi', 'price']]"
   ]
  },
  {
   "cell_type": "code",
   "execution_count": 21,
   "id": "f4e3c975-d89e-487a-bb07-5408e09359f8",
   "metadata": {},
   "outputs": [
    {
     "data": {
      "image/png": "[encoded data removed]",
      "text/plain": [
       "<Figure size 432x288 with 1 Axes>"
      ]
     },
     "metadata": {
      "needs_background": "light"
     },
     "output_type": "display_data"
    }
   ],
   "source": [
    "sns.boxplot(x = 'blue', y = 'price', data = train_cat);"
   ]
  },
  {
   "cell_type": "code",
   "execution_count": 22,
   "id": "e34ca158-ee5f-4cb4-bc8f-b02de3cbbf40",
   "metadata": {},
   "outputs": [
    {
     "data": {
      "image/png": "[encoded data removed]",
      "text/plain": [
       "<Figure size 432x288 with 1 Axes>"
      ]
     },
     "metadata": {
      "needs_background": "light"
     },
     "output_type": "display_data"
    }
   ],
   "source": [
    "sns.boxplot(x = 'dual_sim', y = 'price', data = train_cat);"
   ]
  },
  {
   "cell_type": "code",
   "execution_count": 23,
   "id": "8e60b14c-bcec-4ae5-8532-dd58e815459b",
   "metadata": {},
   "outputs": [
    {
     "data": {
      "image/png": "[encoded data removed]",
      "text/plain": [
       "<Figure size 432x288 with 1 Axes>"
      ]
     },
     "metadata": {
      "needs_background": "light"
     },
     "output_type": "display_data"
    }
   ],
   "source": [
    "sns.boxplot(x = 'four_g', y = 'price', data = train_cat);"
   ]
  },
  {
   "cell_type": "code",
   "execution_count": 24,
   "id": "f1d08334-7603-486c-90bc-d1b4b58ef329",
   "metadata": {},
   "outputs": [
    {
     "data": {
      "image/png": "[encoded data removed]",
      "text/plain": [
       "<Figure size 432x288 with 1 Axes>"
      ]
     },
     "metadata": {
      "needs_background": "light"
     },
     "output_type": "display_data"
    }
   ],
   "source": [
    "sns.boxplot(x = 'three_g', y = 'price', data = train_cat);"
   ]
  },
  {
   "cell_type": "code",
   "execution_count": 25,
   "id": "307f17a0-6503-4f7c-92f6-31c67fd01a70",
   "metadata": {},
   "outputs": [
    {
     "data": {
      "image/png": "[encoded data removed]",
      "text/plain": [
       "<Figure size 432x288 with 1 Axes>"
      ]
     },
     "metadata": {
      "needs_background": "light"
     },
     "output_type": "display_data"
    }
   ],
   "source": [
    "sns.boxplot(x = 'touch_screen', y = 'price', data = train_cat);"
   ]
  },
  {
   "cell_type": "code",
   "execution_count": 26,
   "id": "567bec94-9473-419e-88e0-bdd7b5116b3e",
   "metadata": {},
   "outputs": [
    {
     "data": {
      "image/png": "[encoded data removed]",
      "text/plain": [
       "<Figure size 432x288 with 1 Axes>"
      ]
     },
     "metadata": {
      "needs_background": "light"
     },
     "output_type": "display_data"
    }
   ],
   "source": [
    "sns.boxplot(x = 'wifi', y = 'price', data = train_cat);"
   ]
  },
  {
   "cell_type": "markdown",
   "id": "b36c7422-34c1-46cc-af09-9e5e7f69b1d7",
   "metadata": {},
   "source": [
    "**NO se observan efectos importantes de las variables categóricas en el precio**"
   ]
  },
  {
   "cell_type": "markdown",
   "id": "485759fd-537f-438c-ad36-bc96846914da",
   "metadata": {},
   "source": [
    "### Produce un modelo de regresión lineal para predecir el precio de los equipos móviles."
   ]
  },
  {
   "cell_type": "code",
   "execution_count": 27,
   "id": "490d0eea-2ea2-44cb-8666-5ab676640688",
   "metadata": {},
   "outputs": [],
   "source": [
    "X_train = train_price.drop('price',axis=1)\n",
    "y_train = train_price['price']\n",
    "X_test = test_price.drop('price',axis=1)\n",
    "y_test = test_price['price']"
   ]
  },
  {
   "cell_type": "code",
   "execution_count": 28,
   "id": "e33023d6-f390-4bd0-93f3-b819c9f95e70",
   "metadata": {},
   "outputs": [
    {
     "data": {
      "text/plain": [
       "LinearRegression()"
      ]
     },
     "execution_count": 28,
     "metadata": {},
     "output_type": "execute_result"
    }
   ],
   "source": [
    "from sklearn.linear_model import LinearRegression\n",
    "\n",
    "LR = LinearRegression()\n",
    "LR.fit(X_train,y_train)"
   ]
  },
  {
   "cell_type": "code",
   "execution_count": 29,
   "id": "1b4eafa8-1b21-4b4e-bed0-1fe00a2f5aa4",
   "metadata": {},
   "outputs": [
    {
     "data": {
      "text/plain": [
       "array([13413.82965706, 22471.27272716, 19721.3904922 , ...,\n",
       "       30386.11547179,  3177.94274592, 26351.92396882])"
      ]
     },
     "execution_count": 29,
     "metadata": {},
     "output_type": "execute_result"
    }
   ],
   "source": [
    "y_prediction = LR.predict(X_test)\n",
    "y_prediction"
   ]
  },
  {
   "cell_type": "code",
   "execution_count": 30,
   "id": "86204648-2ac6-4dde-bd3a-9f56cf35bb43",
   "metadata": {},
   "outputs": [
    {
     "name": "stdout",
     "output_type": "stream",
     "text": [
      "r2 = 0.8238443801\n",
      "MSE = 23783447.95\n",
      "RMSE = 4876.83\n"
     ]
    }
   ],
   "source": [
    "from sklearn.metrics import r2_score\n",
    "from sklearn.metrics import mean_squared_error\n",
    "\n",
    "score2 = r2_score(y_test, y_prediction) # Accuracy Score\n",
    "MSE = mean_squared_error(y_test, y_prediction)  # Error cuadrático medio\n",
    "RMSE = np.sqrt(MSE)\n",
    "\n",
    "print('r2 =', round(score2, 10))  \n",
    "print('MSE =', round(MSE, 2))\n",
    "print('RMSE =', round(RMSE, 2))"
   ]
  },
  {
   "cell_type": "markdown",
   "id": "d5ba24d8-1f71-4968-8de0-cd9d788bb5b6",
   "metadata": {},
   "source": [
    "**Se puede ver que la varianza explicada es superior a 0.8, lo que significa que podemos usar este modelo para resolver la regresión, y que el error cuadrático también es bajo.**"
   ]
  }
 ],
 "metadata": {
  "kernelspec": {
   "display_name": "Python 3",
   "language": "python",
   "name": "python3"
  },
  "language_info": {
   "codemirror_mode": {
    "name": "ipython",
    "version": 3
   },
   "file_extension": ".py",
   "mimetype": "text/x-python",
   "name": "python",
   "nbconvert_exporter": "python",
   "pygments_lexer": "ipython3",
   "version": "3.11.1 (tags/v3.11.1:a7a450f, Dec  6 2022, 19:58:39) [MSC v.1934 64 bit (AMD64)]"
  },
  "vscode": {
   "interpreter": {
    "hash": "22b6aa23ebdb95c31771a605332d65b96d6e70a70a8e5cf021766a53e709a3c7"
   }
  }
 },
 "nbformat": 4,
 "nbformat_minor": 5
}
